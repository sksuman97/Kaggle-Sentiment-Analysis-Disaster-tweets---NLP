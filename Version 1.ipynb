{
 "cells": [
  {
   "cell_type": "markdown",
   "metadata": {},
   "source": [
    "## Loading Libraries"
   ]
  },
  {
   "cell_type": "code",
   "execution_count": 69,
   "metadata": {},
   "outputs": [],
   "source": [
    "import pandas as pd\n",
    "import numpy as np\n",
    "import matplotlib.pyplot as plt\n",
    "import seaborn as sns\n",
    "import os\n",
    "import nltk\n",
    "import spacy\n",
    "import re\n",
    "from textblob import TextBlob\n",
    "from nltk.tokenize import word_tokenize\n",
    "from nltk.corpus import stopwords\n",
    "from nltk.stem import WordNetLemmatizer\n",
    "from nltk.probability import FreqDist\n",
    "\n",
    "\n",
    "\n",
    "\n",
    "import matplotlib.pyplot as plt \n",
    "from sklearn.model_selection import train_test_split, StratifiedKFold, cross_val_score\n",
    "from sklearn import model_selection, naive_bayes, svm\n",
    "from sklearn.metrics import classification_report,confusion_matrix\n",
    "from sklearn.metrics import roc_auc_score\n",
    "from sklearn.metrics import recall_score\n",
    "from sklearn.metrics import f1_score\n",
    "from sklearn.metrics import confusion_matrix, accuracy_score\n",
    "from sklearn.model_selection import GridSearchCV\n",
    "from sklearn.metrics import precision_recall_curve\n",
    "from sklearn.metrics import f1_score\n",
    "from sklearn.metrics import auc\n",
    "from matplotlib import pyplot\n",
    "from sklearn.metrics import roc_curve\n",
    "from sklearn.metrics import roc_auc_score, accuracy_score\n",
    "import string\n",
    "\n",
    "from sklearn.feature_extraction.text import CountVectorizer, TfidfVectorizer\n",
    "from sklearn.naive_bayes import MultinomialNB, GaussianNB\n",
    "from sklearn.metrics import f1_score\n",
    "plt.style.use('fivethirtyeight')\n",
    "plt.style.use('dark_background')\n",
    "from sklearn.ensemble import AdaBoostClassifier, RandomForestClassifier\n",
    "from sklearn.model_selection import cross_val_score"
   ]
  },
  {
   "cell_type": "code",
   "execution_count": 2,
   "metadata": {},
   "outputs": [],
   "source": [
    "# import genism"
   ]
  },
  {
   "cell_type": "markdown",
   "metadata": {},
   "source": [
    "## Loading Data"
   ]
  },
  {
   "cell_type": "code",
   "execution_count": 3,
   "metadata": {},
   "outputs": [],
   "source": [
    "train_df = pd.read_csv('Data/train.csv')\n",
    "test_df = pd.read_csv('Data/test.csv')"
   ]
  },
  {
   "cell_type": "code",
   "execution_count": 4,
   "metadata": {},
   "outputs": [
    {
     "data": {
      "text/html": [
       "<div>\n",
       "<style scoped>\n",
       "    .dataframe tbody tr th:only-of-type {\n",
       "        vertical-align: middle;\n",
       "    }\n",
       "\n",
       "    .dataframe tbody tr th {\n",
       "        vertical-align: top;\n",
       "    }\n",
       "\n",
       "    .dataframe thead th {\n",
       "        text-align: right;\n",
       "    }\n",
       "</style>\n",
       "<table border=\"1\" class=\"dataframe\">\n",
       "  <thead>\n",
       "    <tr style=\"text-align: right;\">\n",
       "      <th></th>\n",
       "      <th>id</th>\n",
       "      <th>keyword</th>\n",
       "      <th>location</th>\n",
       "      <th>text</th>\n",
       "      <th>target</th>\n",
       "    </tr>\n",
       "  </thead>\n",
       "  <tbody>\n",
       "    <tr>\n",
       "      <th>0</th>\n",
       "      <td>1</td>\n",
       "      <td>NaN</td>\n",
       "      <td>NaN</td>\n",
       "      <td>Our Deeds are the Reason of this #earthquake M...</td>\n",
       "      <td>1</td>\n",
       "    </tr>\n",
       "    <tr>\n",
       "      <th>1</th>\n",
       "      <td>4</td>\n",
       "      <td>NaN</td>\n",
       "      <td>NaN</td>\n",
       "      <td>Forest fire near La Ronge Sask. Canada</td>\n",
       "      <td>1</td>\n",
       "    </tr>\n",
       "    <tr>\n",
       "      <th>2</th>\n",
       "      <td>5</td>\n",
       "      <td>NaN</td>\n",
       "      <td>NaN</td>\n",
       "      <td>All residents asked to 'shelter in place' are ...</td>\n",
       "      <td>1</td>\n",
       "    </tr>\n",
       "    <tr>\n",
       "      <th>3</th>\n",
       "      <td>6</td>\n",
       "      <td>NaN</td>\n",
       "      <td>NaN</td>\n",
       "      <td>13,000 people receive #wildfires evacuation or...</td>\n",
       "      <td>1</td>\n",
       "    </tr>\n",
       "    <tr>\n",
       "      <th>4</th>\n",
       "      <td>7</td>\n",
       "      <td>NaN</td>\n",
       "      <td>NaN</td>\n",
       "      <td>Just got sent this photo from Ruby #Alaska as ...</td>\n",
       "      <td>1</td>\n",
       "    </tr>\n",
       "  </tbody>\n",
       "</table>\n",
       "</div>"
      ],
      "text/plain": [
       "   id keyword location                                               text  \\\n",
       "0   1     NaN      NaN  Our Deeds are the Reason of this #earthquake M...   \n",
       "1   4     NaN      NaN             Forest fire near La Ronge Sask. Canada   \n",
       "2   5     NaN      NaN  All residents asked to 'shelter in place' are ...   \n",
       "3   6     NaN      NaN  13,000 people receive #wildfires evacuation or...   \n",
       "4   7     NaN      NaN  Just got sent this photo from Ruby #Alaska as ...   \n",
       "\n",
       "   target  \n",
       "0       1  \n",
       "1       1  \n",
       "2       1  \n",
       "3       1  \n",
       "4       1  "
      ]
     },
     "execution_count": 4,
     "metadata": {},
     "output_type": "execute_result"
    }
   ],
   "source": [
    "train_df.head()"
   ]
  },
  {
   "cell_type": "markdown",
   "metadata": {},
   "source": [
    "## Cleaning textual Data"
   ]
  },
  {
   "cell_type": "markdown",
   "metadata": {},
   "source": [
    "### Removing url"
   ]
  },
  {
   "cell_type": "code",
   "execution_count": 5,
   "metadata": {},
   "outputs": [],
   "source": [
    "def clean_url(sentence):\n",
    "    return re.sub(r'http\\S+', '', sentence)"
   ]
  },
  {
   "cell_type": "markdown",
   "metadata": {},
   "source": [
    "### Spell Correcter"
   ]
  },
  {
   "cell_type": "code",
   "execution_count": 6,
   "metadata": {},
   "outputs": [],
   "source": [
    "# def spell_correction(sentence):\n",
    "#     return ''.join(TextBlob(sentence).correct())"
   ]
  },
  {
   "cell_type": "markdown",
   "metadata": {},
   "source": [
    "### Removing all irrelevant (Punctualtions and Numbers)"
   ]
  },
  {
   "cell_type": "code",
   "execution_count": 7,
   "metadata": {},
   "outputs": [],
   "source": [
    "def remove_non_alpha_numeric(sentence):\n",
    "    return re.sub('[^a-zA-Z]', ' ', sentence)"
   ]
  },
  {
   "cell_type": "markdown",
   "metadata": {},
   "source": [
    "### Convering words to lowercase"
   ]
  },
  {
   "cell_type": "code",
   "execution_count": 8,
   "metadata": {},
   "outputs": [],
   "source": [
    "def lower(sentence):\n",
    "    return sentence.lower()"
   ]
  },
  {
   "cell_type": "markdown",
   "metadata": {},
   "source": [
    "### Tokenization"
   ]
  },
  {
   "cell_type": "code",
   "execution_count": 9,
   "metadata": {},
   "outputs": [],
   "source": [
    "def token(sentence):\n",
    "    return word_tokenize(sentence)"
   ]
  },
  {
   "cell_type": "markdown",
   "metadata": {},
   "source": [
    "### Removing Stopword"
   ]
  },
  {
   "cell_type": "code",
   "execution_count": 10,
   "metadata": {},
   "outputs": [],
   "source": [
    "# stopwords.words('english')\n",
    "\n",
    "def remove_stop_words(tokenised_sentence):\n",
    "    stopwords1 = [x for x in stopwords.words('english') if 't' not in x]\n",
    "    return [x for x in tokenised_sentence if x not in stopwords1]"
   ]
  },
  {
   "cell_type": "markdown",
   "metadata": {},
   "source": [
    "### Lemitization and removing short words (length <=2)"
   ]
  },
  {
   "cell_type": "code",
   "execution_count": 11,
   "metadata": {},
   "outputs": [],
   "source": [
    "lemma = WordNetLemmatizer()\n",
    "def lemmati(tokenised_sentence):\n",
    "    return [lemma.lemmatize(word = x, pos = 'v') for x in tokenised_sentence\n",
    "            if len(x)>1\n",
    "           ]\n",
    "    \n",
    "    "
   ]
  },
  {
   "cell_type": "markdown",
   "metadata": {},
   "source": [
    "### Converting back to string"
   ]
  },
  {
   "cell_type": "code",
   "execution_count": 12,
   "metadata": {},
   "outputs": [],
   "source": [
    "def back_to_string(tokenised_sentence):\n",
    "    return ' '.join(tokenised_sentence)\n",
    "    "
   ]
  },
  {
   "cell_type": "markdown",
   "metadata": {},
   "source": [
    "### Applying functions altogather to preprocess once"
   ]
  },
  {
   "cell_type": "code",
   "execution_count": 13,
   "metadata": {},
   "outputs": [],
   "source": [
    "# Applying preprocessing\n",
    "def preprocess(train_df):\n",
    "    train_df['clean_text'] = train_df['text'].apply(clean_url)\n",
    "#     train_df['clean_text'] = train_df['clean_text'].apply(spell_correction)\n",
    "    train_df['clean_text'] = train_df['clean_text'].apply(remove_non_alpha_numeric)\n",
    "    train_df['clean_text'] = train_df['clean_text'].apply(lower)\n",
    "    train_df['clean_text'] = train_df['clean_text'].apply(token)\n",
    "    train_df['clean_text'] = train_df['clean_text'].apply(remove_stop_words)\n",
    "    train_df['clean_text'] = train_df['clean_text'].apply(lemmati)\n",
    "    train_df['clean_text'] = train_df['clean_text'].apply(back_to_string)\n",
    "    return train_df"
   ]
  },
  {
   "cell_type": "code",
   "execution_count": 14,
   "metadata": {},
   "outputs": [],
   "source": [
    "train_df = preprocess(train_df)\n",
    "# test_df = preprocess(test_df)"
   ]
  },
  {
   "cell_type": "code",
   "execution_count": 15,
   "metadata": {},
   "outputs": [
    {
     "data": {
      "text/plain": [
       "'D:\\\\PROJECTS\\\\Kaggle - Disaster tweet NLP'"
      ]
     },
     "execution_count": 15,
     "metadata": {},
     "output_type": "execute_result"
    }
   ],
   "source": [
    "os.getcwd()"
   ]
  },
  {
   "cell_type": "code",
   "execution_count": 16,
   "metadata": {},
   "outputs": [
    {
     "data": {
      "text/plain": [
       "['modified', 'sample_submission.csv', 'test.csv', 'train.csv']"
      ]
     },
     "execution_count": 16,
     "metadata": {},
     "output_type": "execute_result"
    }
   ],
   "source": [
    "os.listdir('D:\\\\PROJECTS\\\\Kaggle - Disaster tweet NLP\\\\Data')"
   ]
  },
  {
   "cell_type": "code",
   "execution_count": 17,
   "metadata": {},
   "outputs": [],
   "source": [
    "# train_df.to_csv('D:\\\\PROJECTS\\\\Kaggle - Disaster tweet NLP\\\\Data\\\\modified\\\\train1.csv')"
   ]
  },
  {
   "cell_type": "code",
   "execution_count": 18,
   "metadata": {},
   "outputs": [],
   "source": [
    "# train_df = pd.read_csv('D:\\\\PROJECTS\\\\Kaggle - Disaster tweet NLP\\\\Data\\\\modified\\\\train1.csv')"
   ]
  },
  {
   "cell_type": "code",
   "execution_count": 19,
   "metadata": {},
   "outputs": [
    {
     "data": {
      "text/plain": [
       "\"All residents asked to 'shelter in place' are being notified by officers. No other evacuation or shelter in place orders are expected\""
      ]
     },
     "execution_count": 19,
     "metadata": {},
     "output_type": "execute_result"
    }
   ],
   "source": [
    "train_df['text'].iloc[2]"
   ]
  },
  {
   "cell_type": "markdown",
   "metadata": {},
   "source": [
    "### Removing rare words"
   ]
  },
  {
   "cell_type": "code",
   "execution_count": 20,
   "metadata": {},
   "outputs": [],
   "source": [
    "def most_rare_word_func(text, n_words=5, till = None):\n",
    "    '''\n",
    "    Returns the most rarely used words from a text\n",
    "    \n",
    "    Step 1: Use word_tokenize() to get tokens from string\n",
    "    Step 2: Uses the FreqDist function to determine the word frequency\n",
    "    \n",
    "    Args:\n",
    "        text (str): String to which the functions are to be applied, string\n",
    "    \n",
    "    Returns:\n",
    "        List of the most rarely occurring words (by default = 5)\n",
    "    ''' \n",
    "    words = word_tokenize(text)\n",
    "    fdist = FreqDist(words) \n",
    "    \n",
    "    df_fdist = pd.DataFrame({'Word': fdist.keys(),\n",
    "                             'Frequency': fdist.values()})\n",
    "    df_fdist = df_fdist.sort_values(by='Frequency', ascending=False)\n",
    "    \n",
    "    n_words = n_words\n",
    "    most_rare_words_list = list(df_fdist['Word'][-n_words:])\n",
    "    \n",
    "    plt.figure(figsize=(11,7))\n",
    "    plt.bar(df_fdist['Word'][-n_words:till], \n",
    "            df_fdist['Frequency'][-n_words:till])\n",
    "\n",
    "    plt.xticks(rotation = 45)\n",
    "\n",
    "    plt.xlabel('Least common Words')\n",
    "    plt.ylabel(\"Frequency\")\n",
    "    plt.title(\"Frequency distribution of the 10 least common words\")\n",
    "\n",
    "    plt.show()\n",
    "    \n",
    "    return most_rare_words_list"
   ]
  },
  {
   "cell_type": "code",
   "execution_count": 21,
   "metadata": {},
   "outputs": [],
   "source": [
    "join_t = train_df['clean_text'].str.cat(sep= ' ')"
   ]
  },
  {
   "cell_type": "code",
   "execution_count": 22,
   "metadata": {},
   "outputs": [
    {
     "data": {
      "text/plain": [
       "14165"
      ]
     },
     "execution_count": 22,
     "metadata": {},
     "output_type": "execute_result"
    }
   ],
   "source": [
    "len(np.unique(join_t.split(\" \")))"
   ]
  },
  {
   "cell_type": "markdown",
   "metadata": {},
   "source": [
    "## EDA"
   ]
  },
  {
   "cell_type": "code",
   "execution_count": 24,
   "metadata": {},
   "outputs": [
    {
     "data": {
      "text/plain": [
       "0    4342\n",
       "1    3271\n",
       "Name: target, dtype: int64"
      ]
     },
     "execution_count": 24,
     "metadata": {},
     "output_type": "execute_result"
    }
   ],
   "source": [
    "train_df['target'].value_counts()"
   ]
  },
  {
   "cell_type": "code",
   "execution_count": 27,
   "metadata": {},
   "outputs": [
    {
     "data": {
      "text/plain": [
       "USA                    104\n",
       "New York                71\n",
       "United States           50\n",
       "London                  45\n",
       "Canada                  29\n",
       "                      ... \n",
       "MontrÌ©al, QuÌ©bec       1\n",
       "Montreal                 1\n",
       "ÌÏT: 6.4682,3.18287      1\n",
       "Live4Heed??              1\n",
       "Lincoln                  1\n",
       "Name: location, Length: 3341, dtype: int64"
      ]
     },
     "execution_count": 27,
     "metadata": {},
     "output_type": "execute_result"
    }
   ],
   "source": [
    "train_df['location'].value_counts()"
   ]
  },
  {
   "cell_type": "markdown",
   "metadata": {},
   "source": [
    "### Utility Function"
   ]
  },
  {
   "cell_type": "code",
   "execution_count": 55,
   "metadata": {},
   "outputs": [],
   "source": [
    "def check_scores(clf,X_train, X_test, y_train, y_test):\n",
    "\n",
    "  model=clf.fit(X_train, y_train)\n",
    "  predicted_class=model.predict(X_test)\n",
    "  predicted_class_train=model.predict(X_train)\n",
    "  test_probs = model.predict_proba(X_test)\n",
    "  test_probs = test_probs[:, 1]\n",
    "  yhat = model.predict(X_test)\n",
    "  lr_precision, lr_recall, _ = precision_recall_curve(y_test, test_probs)\n",
    "  lr_f1, lr_auc = f1_score(y_test, yhat), auc(lr_recall, lr_precision)\n",
    "\n",
    "\n",
    "  print('Train confusion matrix is: ',)\n",
    "  print(confusion_matrix(y_train, predicted_class_train))\n",
    "\n",
    "  print()\n",
    "  print('Test confusion matrix is: ')\n",
    "  print(confusion_matrix(y_test, predicted_class))\n",
    "  print()\n",
    "  print(classification_report(y_test,predicted_class)) \n",
    "  print() \n",
    "  train_accuracy = accuracy_score(y_train,predicted_class_train)\n",
    "  test_accuracy = accuracy_score(y_test,predicted_class)\n",
    "\n",
    "  print(\"Train accuracy score: \", train_accuracy)\n",
    "  print(\"Test accuracy score: \",test_accuracy )\n",
    "  print()\n",
    "  train_auc = roc_auc_score(y_train, clf.predict_proba(X_train)[:,1])\n",
    "  test_auc = roc_auc_score(y_test, clf.predict_proba(X_test)[:,1])\n",
    "\n",
    "  print(\"Train ROC-AUC score: \", train_auc)\n",
    "  print(\"Test ROC-AUC score: \", test_auc)\n",
    "  fig, (ax1, ax2) = plt.subplots(1, 2)\n",
    "\n",
    "  ax1.plot(lr_recall, lr_precision)\n",
    "  ax1.set(xlabel=\"Recall\", ylabel=\"Precision\")\n",
    "\n",
    "  plt.subplots_adjust(left=0.5,\n",
    "                    bottom=0.1, \n",
    "                    right=1.5, \n",
    "                    top=0.9, \n",
    "                    wspace=0.4, \n",
    "                    hspace=0.4)\n",
    "  print()\n",
    "  print('Area under Precision-Recall curve:', lr_f1)\n",
    "  \n",
    "  fpr, tpr, _ = roc_curve(y_test, test_probs)\n",
    "\n",
    "\n",
    "  ax2.plot(fpr, tpr)\n",
    "  ax2.set(xlabel='False Positive Rate', ylabel='True Positive Rate')\n",
    "\n",
    "  print(\"Area under ROC-AUC:\", lr_auc)\n",
    "  return train_accuracy, test_accuracy, train_auc, test_auc\n",
    "\n",
    "\n",
    "\n",
    "def grid_search(model, parameters, X_train, Y_train):\n",
    "  #Doing a grid\n",
    "  grid = GridSearchCV(estimator=model,\n",
    "                       param_grid = parameters,\n",
    "                       cv = 2, verbose=2, scoring='roc_auc')\n",
    "  #Fitting the grid \n",
    "  grid.fit(X_train,Y_train)\n",
    "  print()\n",
    "  print()\n",
    "  # Best model found using grid search\n",
    "  optimal_model = grid.best_estimator_\n",
    "  print('Best parameters are: ')\n",
    "  print( grid.best_params_)\n",
    "\n",
    "  return optimal_model\n"
   ]
  },
  {
   "cell_type": "markdown",
   "metadata": {},
   "source": [
    "### SVC"
   ]
  },
  {
   "cell_type": "code",
   "execution_count": 325,
   "metadata": {},
   "outputs": [],
   "source": [
    "# Creating object of TF-IDF vectorizer\n",
    "vectorizer = TfidfVectorizer(use_idf=True, lowercase=True, min_df=0.001, ngram_range=(1,3), smooth_idf=True)\n",
    "vectorizer.fit(train_df.clean_text)\n",
    "X_tf_idf= vectorizer.transform(train_df.clean_text)"
   ]
  },
  {
   "cell_type": "code",
   "execution_count": 326,
   "metadata": {},
   "outputs": [
    {
     "data": {
      "text/plain": [
       "(7613, 2748)"
      ]
     },
     "execution_count": 326,
     "metadata": {},
     "output_type": "execute_result"
    }
   ],
   "source": [
    "X_tf_idf.toarray().shape"
   ]
  },
  {
   "cell_type": "code",
   "execution_count": 327,
   "metadata": {},
   "outputs": [],
   "source": [
    "\n",
    "x_train, x_test, y_train, y_test = train_test_split(X_tf_idf, train_df['target'], random_state=42)"
   ]
  },
  {
   "cell_type": "code",
   "execution_count": 365,
   "metadata": {},
   "outputs": [
    {
     "data": {
      "text/plain": [
       "<bound method BaseEstimator.get_params of SVC(C=0.8, degree=7, kernel='poly', probability=True)>"
      ]
     },
     "execution_count": 365,
     "metadata": {},
     "output_type": "execute_result"
    }
   ],
   "source": [
    "SVM.get_params"
   ]
  },
  {
   "cell_type": "code",
   "execution_count": 372,
   "metadata": {},
   "outputs": [
    {
     "name": "stdout",
     "output_type": "stream",
     "text": [
      "Train confusion matrix is: \n",
      "[[3044  207]\n",
      " [ 664 1794]]\n",
      "\n",
      "Test confusion matrix is: \n",
      "[[976 115]\n",
      " [275 538]]\n",
      "\n",
      "              precision    recall  f1-score   support\n",
      "\n",
      "           0       0.78      0.89      0.83      1091\n",
      "           1       0.82      0.66      0.73       813\n",
      "\n",
      "    accuracy                           0.80      1904\n",
      "   macro avg       0.80      0.78      0.78      1904\n",
      "weighted avg       0.80      0.80      0.79      1904\n",
      "\n",
      "\n",
      "Train accuracy score:  0.8474338763356104\n",
      "Test accuracy score:  0.7951680672268907\n",
      "\n",
      "Train ROC-AUC score:  0.9184124106271113\n",
      "Test ROC-AUC score:  0.8553320638614269\n",
      "\n",
      "Are under Precision-Recall curve: 0.7339699863574353\n",
      "Area under ROC-AUC: 0.8335349263469524\n"
     ]
    },
    {
     "data": {
      "image/png": "[encoded data removed]",
      "text/plain": [
       "<Figure size 432x288 with 2 Axes>"
      ]
     },
     "metadata": {},
     "output_type": "display_data"
    }
   ],
   "source": [
    "SVM = svm.SVC( probability=True, C=0.5, kernel='poly', degree=1, coef0=10, shrinking=True, random_state=0, \n",
    "             )\n",
    "s_train_accuracy, s_test_accuracy, s_train_auc, s_test_auc = check_scores(SVM, x_train, x_test, y_train, y_test)"
   ]
  },
  {
   "cell_type": "code",
   "execution_count": 324,
   "metadata": {},
   "outputs": [],
   "source": [
    "def predict(data, Mod):\n",
    "    data = preprocess(data)\n",
    "    X_tf_idf= vectorizer.transform(data.clean_text)\n",
    "    \n",
    "    pred_y = Mod.predict(X_tf_idf)\n",
    "    data['target'] = pred_y\n",
    "    return data[['id', 'target']]"
   ]
  },
  {
   "cell_type": "code",
   "execution_count": 373,
   "metadata": {},
   "outputs": [],
   "source": [
    "k = predict(test_df, SVM)\n"
   ]
  },
  {
   "cell_type": "code",
   "execution_count": 377,
   "metadata": {},
   "outputs": [],
   "source": [
    "# k.to_csv('SVM.csv', index = False)"
   ]
  },
  {
   "cell_type": "code",
   "execution_count": 61,
   "metadata": {},
   "outputs": [
    {
     "name": "stdout",
     "output_type": "stream",
     "text": [
      "Fitting 2 folds for each of 16 candidates, totalling 32 fits\n",
      "[CV] END .....................C=0.1, gamma=scale, kernel=rbf; total time=   4.7s\n",
      "[CV] END .....................C=0.1, gamma=scale, kernel=rbf; total time=   4.5s\n",
      "[CV] END .................C=0.1, gamma=scale, kernel=sigmoid; total time=   4.1s\n",
      "[CV] END .................C=0.1, gamma=scale, kernel=sigmoid; total time=   4.0s\n",
      "[CV] END ......................C=0.1, gamma=auto, kernel=rbf; total time=   3.9s\n",
      "[CV] END ......................C=0.1, gamma=auto, kernel=rbf; total time=   3.9s\n",
      "[CV] END ..................C=0.1, gamma=auto, kernel=sigmoid; total time=   3.7s\n",
      "[CV] END ..................C=0.1, gamma=auto, kernel=sigmoid; total time=   3.6s\n",
      "[CV] END .....................C=0.5, gamma=scale, kernel=rbf; total time=   4.7s\n",
      "[CV] END .....................C=0.5, gamma=scale, kernel=rbf; total time=   4.6s\n",
      "[CV] END .................C=0.5, gamma=scale, kernel=sigmoid; total time=   3.8s\n",
      "[CV] END .................C=0.5, gamma=scale, kernel=sigmoid; total time=   3.7s\n",
      "[CV] END ......................C=0.5, gamma=auto, kernel=rbf; total time=   3.9s\n",
      "[CV] END ......................C=0.5, gamma=auto, kernel=rbf; total time=   3.9s\n",
      "[CV] END ..................C=0.5, gamma=auto, kernel=sigmoid; total time=   3.8s\n",
      "[CV] END ..................C=0.5, gamma=auto, kernel=sigmoid; total time=   3.9s\n",
      "[CV] END .......................C=1, gamma=scale, kernel=rbf; total time=   4.9s\n",
      "[CV] END .......................C=1, gamma=scale, kernel=rbf; total time=   4.9s\n",
      "[CV] END ...................C=1, gamma=scale, kernel=sigmoid; total time=   3.6s\n",
      "[CV] END ...................C=1, gamma=scale, kernel=sigmoid; total time=   3.4s\n",
      "[CV] END ........................C=1, gamma=auto, kernel=rbf; total time=   4.2s\n",
      "[CV] END ........................C=1, gamma=auto, kernel=rbf; total time=   4.3s\n",
      "[CV] END ....................C=1, gamma=auto, kernel=sigmoid; total time=   3.9s\n",
      "[CV] END ....................C=1, gamma=auto, kernel=sigmoid; total time=   3.8s\n",
      "[CV] END .......................C=2, gamma=scale, kernel=rbf; total time=   4.7s\n",
      "[CV] END .......................C=2, gamma=scale, kernel=rbf; total time=   4.7s\n",
      "[CV] END ...................C=2, gamma=scale, kernel=sigmoid; total time=   3.8s\n",
      "[CV] END ...................C=2, gamma=scale, kernel=sigmoid; total time=   3.6s\n",
      "[CV] END ........................C=2, gamma=auto, kernel=rbf; total time=   4.3s\n",
      "[CV] END ........................C=2, gamma=auto, kernel=rbf; total time=   4.1s\n",
      "[CV] END ....................C=2, gamma=auto, kernel=sigmoid; total time=   3.7s\n",
      "[CV] END ....................C=2, gamma=auto, kernel=sigmoid; total time=   3.9s\n",
      "\n",
      "\n",
      "Best parameters are: \n",
      "{'C': 0.5, 'gamma': 'scale', 'kernel': 'sigmoid'}\n"
     ]
    }
   ],
   "source": [
    "# Tuning the hyperparameters\n",
    "parameters ={\n",
    "    \"C\":[0.1, 1, 10, 100, 1000],\n",
    "    \"kernel\":['rbf', 'sigmoid', 'poly'],\n",
    "    \"gamma\" = [0.1, 1, 10, 100],\n",
    "    \"degree\" = [0, 1, 2, 3, 4, 5, 6]\n",
    "}\n",
    "\n",
    "\n",
    "\n",
    "svm_optimal = grid_search(svm.SVC(probability=True), parameters,x_train, y_train)"
   ]
  },
  {
   "cell_type": "code",
   "execution_count": 62,
   "metadata": {},
   "outputs": [
    {
     "name": "stdout",
     "output_type": "stream",
     "text": [
      "Train confusion matrix is: \n",
      "[[3130  121]\n",
      " [ 693 1765]]\n",
      "\n",
      "Test confusion matrix is: \n",
      "[[1011   80]\n",
      " [ 300  513]]\n",
      "\n",
      "              precision    recall  f1-score   support\n",
      "\n",
      "           0       0.77      0.93      0.84      1091\n",
      "           1       0.87      0.63      0.73       813\n",
      "\n",
      "    accuracy                           0.80      1904\n",
      "   macro avg       0.82      0.78      0.79      1904\n",
      "weighted avg       0.81      0.80      0.79      1904\n",
      "\n",
      "\n",
      "Train accuracy score:  0.8574181117533719\n",
      "Test accuracy score:  0.8004201680672269\n",
      "\n",
      "Train ROC-AUC score:  0.9365674929088603\n",
      "Test ROC-AUC score:  0.8589600928089941\n",
      "\n",
      "Are under Precision-Recall curve: 0.7297297297297297\n",
      "Area under ROC-AUC: 0.8417639408397153\n"
     ]
    },
    {
     "data": {
      "image/png": "[encoded data removed]",
      "text/plain": [
       "<Figure size 432x288 with 2 Axes>"
      ]
     },
     "metadata": {},
     "output_type": "display_data"
    }
   ],
   "source": [
    "so_train_accuracy, so_test_accuracy, so_train_auc, so_test_auc = check_scores(svm_optimal,x_train, x_test, y_train, y_test)"
   ]
  },
  {
   "cell_type": "markdown",
   "metadata": {},
   "source": [
    "### MultinomialNB"
   ]
  },
  {
   "cell_type": "code",
   "execution_count": 63,
   "metadata": {},
   "outputs": [
    {
     "name": "stdout",
     "output_type": "stream",
     "text": [
      "Train confusion matrix is: \n",
      "[[3154   97]\n",
      " [ 553 1905]]\n",
      "\n",
      "Test confusion matrix is: \n",
      "[[1000   91]\n",
      " [ 276  537]]\n",
      "\n",
      "              precision    recall  f1-score   support\n",
      "\n",
      "           0       0.78      0.92      0.84      1091\n",
      "           1       0.86      0.66      0.75       813\n",
      "\n",
      "    accuracy                           0.81      1904\n",
      "   macro avg       0.82      0.79      0.80      1904\n",
      "weighted avg       0.81      0.81      0.80      1904\n",
      "\n",
      "\n",
      "Train accuracy score:  0.8861446838325451\n",
      "Test accuracy score:  0.8072478991596639\n",
      "\n",
      "Train ROC-AUC score:  0.9565813635861934\n",
      "Test ROC-AUC score:  0.8531758782299097\n",
      "\n",
      "Are under Precision-Recall curve: 0.7453157529493408\n",
      "Area under ROC-AUC: 0.8541702060848991\n"
     ]
    },
    {
     "data": {
      "image/png": "[encoded data removed]",
      "text/plain": [
       "<Figure size 432x288 with 2 Axes>"
      ]
     },
     "metadata": {},
     "output_type": "display_data"
    }
   ],
   "source": [
    "m_train_accuracy, m_test_accuracy, m_train_auc, m_test_auc = check_scores(MultinomialNB(),x_train, x_test, y_train, y_test)"
   ]
  },
  {
   "cell_type": "markdown",
   "metadata": {},
   "source": [
    "### Gaussian NB"
   ]
  },
  {
   "cell_type": "code",
   "execution_count": 64,
   "metadata": {},
   "outputs": [
    {
     "name": "stdout",
     "output_type": "stream",
     "text": [
      "Train confusion matrix is: \n",
      "[[2682  569]\n",
      " [   0 2458]]\n",
      "\n",
      "Test confusion matrix is: \n",
      "[[523 568]\n",
      " [168 645]]\n",
      "\n",
      "              precision    recall  f1-score   support\n",
      "\n",
      "           0       0.76      0.48      0.59      1091\n",
      "           1       0.53      0.79      0.64       813\n",
      "\n",
      "    accuracy                           0.61      1904\n",
      "   macro avg       0.64      0.64      0.61      1904\n",
      "weighted avg       0.66      0.61      0.61      1904\n",
      "\n",
      "\n",
      "Train accuracy score:  0.9003328078472587\n",
      "Test accuracy score:  0.6134453781512605\n",
      "\n",
      "Train ROC-AUC score:  0.9124884650876653\n",
      "Test ROC-AUC score:  0.6363673260930593\n",
      "\n",
      "Are under Precision-Recall curve: 0.6367226061204343\n",
      "Area under ROC-AUC: 0.7066663582837759\n"
     ]
    },
    {
     "data": {
      "image/png": "[encoded data removed]",
      "text/plain": [
       "<Figure size 432x288 with 2 Axes>"
      ]
     },
     "metadata": {},
     "output_type": "display_data"
    }
   ],
   "source": [
    "g_train_accuracy, g_test_accuracy, g_train_auc, g_test_auc=check_scores(GaussianNB(),x_train.toarray(), x_test.toarray(), y_train, y_test)"
   ]
  },
  {
   "cell_type": "markdown",
   "metadata": {},
   "source": [
    "### Adaboost"
   ]
  },
  {
   "cell_type": "code",
   "execution_count": 65,
   "metadata": {},
   "outputs": [
    {
     "name": "stdout",
     "output_type": "stream",
     "text": [
      "Train confusion matrix is: \n",
      "[[2878  373]\n",
      " [ 961 1497]]\n",
      "\n",
      "Test confusion matrix is: \n",
      "[[932 159]\n",
      " [343 470]]\n",
      "\n",
      "              precision    recall  f1-score   support\n",
      "\n",
      "           0       0.73      0.85      0.79      1091\n",
      "           1       0.75      0.58      0.65       813\n",
      "\n",
      "    accuracy                           0.74      1904\n",
      "   macro avg       0.74      0.72      0.72      1904\n",
      "weighted avg       0.74      0.74      0.73      1904\n",
      "\n",
      "\n",
      "Train accuracy score:  0.766333858819408\n",
      "Test accuracy score:  0.7363445378151261\n",
      "\n",
      "Train ROC-AUC score:  0.7915292509358703\n",
      "Test ROC-AUC score:  0.7552326256534792\n",
      "\n",
      "Are under Precision-Recall curve: 0.651872399445215\n",
      "Area under ROC-AUC: 0.7710604013859716\n"
     ]
    },
    {
     "data": {
      "image/png": "[encoded data removed]",
      "text/plain": [
       "<Figure size 432x288 with 2 Axes>"
      ]
     },
     "metadata": {},
     "output_type": "display_data"
    }
   ],
   "source": [
    "a_train_accuracy, a_test_accuracy, a_train_auc, a_test_auc=check_scores(AdaBoostClassifier(),x_train,x_test, y_train, y_test)"
   ]
  },
  {
   "cell_type": "code",
   "execution_count": 66,
   "metadata": {},
   "outputs": [
    {
     "name": "stdout",
     "output_type": "stream",
     "text": [
      "Fitting 2 folds for each of 40 candidates, totalling 80 fits\n",
      "[CV] END algorithm=SAMME, learning_rate=0.0001, n_estimators=10; total time=   0.3s\n",
      "[CV] END algorithm=SAMME, learning_rate=0.0001, n_estimators=10; total time=   0.2s\n",
      "[CV] END algorithm=SAMME, learning_rate=0.0001, n_estimators=50; total time=   1.6s\n",
      "[CV] END algorithm=SAMME, learning_rate=0.0001, n_estimators=50; total time=   1.7s\n",
      "[CV] END algorithm=SAMME, learning_rate=0.0001, n_estimators=100; total time=   3.5s\n",
      "[CV] END algorithm=SAMME, learning_rate=0.0001, n_estimators=100; total time=   3.4s\n",
      "[CV] END algorithm=SAMME, learning_rate=0.0001, n_estimators=500; total time=  17.3s\n",
      "[CV] END algorithm=SAMME, learning_rate=0.0001, n_estimators=500; total time=  17.0s\n",
      "[CV] END algorithm=SAMME, learning_rate=0.001, n_estimators=10; total time=   0.2s\n",
      "[CV] END algorithm=SAMME, learning_rate=0.001, n_estimators=10; total time=   0.3s\n",
      "[CV] END algorithm=SAMME, learning_rate=0.001, n_estimators=50; total time=   1.6s\n",
      "[CV] END algorithm=SAMME, learning_rate=0.001, n_estimators=50; total time=   1.6s\n",
      "[CV] END algorithm=SAMME, learning_rate=0.001, n_estimators=100; total time=   3.4s\n",
      "[CV] END algorithm=SAMME, learning_rate=0.001, n_estimators=100; total time=   3.3s\n",
      "[CV] END algorithm=SAMME, learning_rate=0.001, n_estimators=500; total time=  17.2s\n",
      "[CV] END algorithm=SAMME, learning_rate=0.001, n_estimators=500; total time=  16.9s\n",
      "[CV] END algorithm=SAMME, learning_rate=0.01, n_estimators=10; total time=   0.3s\n",
      "[CV] END algorithm=SAMME, learning_rate=0.01, n_estimators=10; total time=   0.2s\n",
      "[CV] END algorithm=SAMME, learning_rate=0.01, n_estimators=50; total time=   1.6s\n",
      "[CV] END algorithm=SAMME, learning_rate=0.01, n_estimators=50; total time=   1.6s\n",
      "[CV] END algorithm=SAMME, learning_rate=0.01, n_estimators=100; total time=   3.4s\n",
      "[CV] END algorithm=SAMME, learning_rate=0.01, n_estimators=100; total time=   3.4s\n",
      "[CV] END algorithm=SAMME, learning_rate=0.01, n_estimators=500; total time=  17.7s\n",
      "[CV] END algorithm=SAMME, learning_rate=0.01, n_estimators=500; total time=  17.0s\n",
      "[CV] END algorithm=SAMME, learning_rate=0.1, n_estimators=10; total time=   0.2s\n",
      "[CV] END algorithm=SAMME, learning_rate=0.1, n_estimators=10; total time=   0.2s\n",
      "[CV] END algorithm=SAMME, learning_rate=0.1, n_estimators=50; total time=   1.6s\n",
      "[CV] END algorithm=SAMME, learning_rate=0.1, n_estimators=50; total time=   1.7s\n",
      "[CV] END algorithm=SAMME, learning_rate=0.1, n_estimators=100; total time=   3.4s\n",
      "[CV] END algorithm=SAMME, learning_rate=0.1, n_estimators=100; total time=   3.3s\n",
      "[CV] END algorithm=SAMME, learning_rate=0.1, n_estimators=500; total time=  17.2s\n",
      "[CV] END algorithm=SAMME, learning_rate=0.1, n_estimators=500; total time=  17.2s\n",
      "[CV] END algorithm=SAMME, learning_rate=1.0, n_estimators=10; total time=   0.3s\n",
      "[CV] END algorithm=SAMME, learning_rate=1.0, n_estimators=10; total time=   0.2s\n",
      "[CV] END algorithm=SAMME, learning_rate=1.0, n_estimators=50; total time=   1.6s\n",
      "[CV] END algorithm=SAMME, learning_rate=1.0, n_estimators=50; total time=   1.6s\n",
      "[CV] END algorithm=SAMME, learning_rate=1.0, n_estimators=100; total time=   3.4s\n",
      "[CV] END algorithm=SAMME, learning_rate=1.0, n_estimators=100; total time=   3.3s\n",
      "[CV] END algorithm=SAMME, learning_rate=1.0, n_estimators=500; total time=  17.3s\n",
      "[CV] END algorithm=SAMME, learning_rate=1.0, n_estimators=500; total time=  17.2s\n",
      "[CV] END algorithm=SAMME.R, learning_rate=0.0001, n_estimators=10; total time=   0.3s\n",
      "[CV] END algorithm=SAMME.R, learning_rate=0.0001, n_estimators=10; total time=   0.2s\n",
      "[CV] END algorithm=SAMME.R, learning_rate=0.0001, n_estimators=50; total time=   1.7s\n",
      "[CV] END algorithm=SAMME.R, learning_rate=0.0001, n_estimators=50; total time=   1.7s\n",
      "[CV] END algorithm=SAMME.R, learning_rate=0.0001, n_estimators=100; total time=   3.4s\n",
      "[CV] END algorithm=SAMME.R, learning_rate=0.0001, n_estimators=100; total time=   3.4s\n",
      "[CV] END algorithm=SAMME.R, learning_rate=0.0001, n_estimators=500; total time=  17.5s\n",
      "[CV] END algorithm=SAMME.R, learning_rate=0.0001, n_estimators=500; total time=  17.5s\n",
      "[CV] END algorithm=SAMME.R, learning_rate=0.001, n_estimators=10; total time=   0.2s\n",
      "[CV] END algorithm=SAMME.R, learning_rate=0.001, n_estimators=10; total time=   0.3s\n",
      "[CV] END algorithm=SAMME.R, learning_rate=0.001, n_estimators=50; total time=   1.7s\n",
      "[CV] END algorithm=SAMME.R, learning_rate=0.001, n_estimators=50; total time=   1.7s\n",
      "[CV] END algorithm=SAMME.R, learning_rate=0.001, n_estimators=100; total time=   3.4s\n",
      "[CV] END algorithm=SAMME.R, learning_rate=0.001, n_estimators=100; total time=   3.4s\n",
      "[CV] END algorithm=SAMME.R, learning_rate=0.001, n_estimators=500; total time=  17.7s\n",
      "[CV] END algorithm=SAMME.R, learning_rate=0.001, n_estimators=500; total time=  17.4s\n",
      "[CV] END algorithm=SAMME.R, learning_rate=0.01, n_estimators=10; total time=   0.3s\n",
      "[CV] END algorithm=SAMME.R, learning_rate=0.01, n_estimators=10; total time=   0.2s\n",
      "[CV] END algorithm=SAMME.R, learning_rate=0.01, n_estimators=50; total time=   1.6s\n",
      "[CV] END algorithm=SAMME.R, learning_rate=0.01, n_estimators=50; total time=   1.7s\n",
      "[CV] END algorithm=SAMME.R, learning_rate=0.01, n_estimators=100; total time=   3.4s\n",
      "[CV] END algorithm=SAMME.R, learning_rate=0.01, n_estimators=100; total time=   3.4s\n",
      "[CV] END algorithm=SAMME.R, learning_rate=0.01, n_estimators=500; total time=  17.7s\n",
      "[CV] END algorithm=SAMME.R, learning_rate=0.01, n_estimators=500; total time=  17.4s\n",
      "[CV] END algorithm=SAMME.R, learning_rate=0.1, n_estimators=10; total time=   0.3s\n",
      "[CV] END algorithm=SAMME.R, learning_rate=0.1, n_estimators=10; total time=   0.2s\n",
      "[CV] END algorithm=SAMME.R, learning_rate=0.1, n_estimators=50; total time=   1.7s\n",
      "[CV] END algorithm=SAMME.R, learning_rate=0.1, n_estimators=50; total time=   1.7s\n",
      "[CV] END algorithm=SAMME.R, learning_rate=0.1, n_estimators=100; total time=   3.4s\n",
      "[CV] END algorithm=SAMME.R, learning_rate=0.1, n_estimators=100; total time=   3.4s\n",
      "[CV] END algorithm=SAMME.R, learning_rate=0.1, n_estimators=500; total time=  17.6s\n",
      "[CV] END algorithm=SAMME.R, learning_rate=0.1, n_estimators=500; total time=  17.3s\n",
      "[CV] END algorithm=SAMME.R, learning_rate=1.0, n_estimators=10; total time=   0.3s\n",
      "[CV] END algorithm=SAMME.R, learning_rate=1.0, n_estimators=10; total time=   0.3s\n",
      "[CV] END algorithm=SAMME.R, learning_rate=1.0, n_estimators=50; total time=   1.7s\n",
      "[CV] END algorithm=SAMME.R, learning_rate=1.0, n_estimators=50; total time=   1.6s\n",
      "[CV] END algorithm=SAMME.R, learning_rate=1.0, n_estimators=100; total time=   3.5s\n",
      "[CV] END algorithm=SAMME.R, learning_rate=1.0, n_estimators=100; total time=   3.4s\n",
      "[CV] END algorithm=SAMME.R, learning_rate=1.0, n_estimators=500; total time=  17.5s\n",
      "[CV] END algorithm=SAMME.R, learning_rate=1.0, n_estimators=500; total time=  17.4s\n",
      "\n",
      "\n",
      "Best parameters are: \n",
      "{'algorithm': 'SAMME.R', 'learning_rate': 0.1, 'n_estimators': 500}\n"
     ]
    }
   ],
   "source": [
    "params = {'n_estimators': [10, 50, 100, 500],\n",
    " 'learning_rate': [0.0001, 0.001, 0.01, 0.1, 1.0],\n",
    " 'algorithm': ['SAMME', 'SAMME.R']}\n",
    "\n",
    "ada_optimal_model = grid_search(AdaBoostClassifier(), params,x_train, y_train)"
   ]
  },
  {
   "cell_type": "code",
   "execution_count": 67,
   "metadata": {},
   "outputs": [
    {
     "name": "stdout",
     "output_type": "stream",
     "text": [
      "Train confusion matrix is: \n",
      "[[3100  151]\n",
      " [ 998 1460]]\n",
      "\n",
      "Test confusion matrix is: \n",
      "[[1009   82]\n",
      " [ 369  444]]\n",
      "\n",
      "              precision    recall  f1-score   support\n",
      "\n",
      "           0       0.73      0.92      0.82      1091\n",
      "           1       0.84      0.55      0.66       813\n",
      "\n",
      "    accuracy                           0.76      1904\n",
      "   macro avg       0.79      0.74      0.74      1904\n",
      "weighted avg       0.78      0.76      0.75      1904\n",
      "\n",
      "\n",
      "Train accuracy score:  0.7987388334209143\n",
      "Test accuracy score:  0.7631302521008403\n",
      "\n",
      "Train ROC-AUC score:  0.8908055830101974\n",
      "Test ROC-AUC score:  0.8098137168356103\n",
      "\n",
      "Are under Precision-Recall curve: 0.6631814787154593\n",
      "Area under ROC-AUC: 0.8036641011526946\n"
     ]
    },
    {
     "data": {
      "image/png": "[encoded data removed]",
      "text/plain": [
       "<Figure size 432x288 with 2 Axes>"
      ]
     },
     "metadata": {},
     "output_type": "display_data"
    }
   ],
   "source": [
    "ao_train_accuracy, ao_test_accuracy, ao_train_auc, ao_test_auc=check_scores(ada_optimal_model,x_train,x_test, y_train, y_test)"
   ]
  },
  {
   "cell_type": "markdown",
   "metadata": {},
   "source": [
    "### Random Forest"
   ]
  },
  {
   "cell_type": "code",
   "execution_count": 70,
   "metadata": {},
   "outputs": [
    {
     "name": "stdout",
     "output_type": "stream",
     "text": [
      "Train confusion matrix is: \n",
      "[[3234   17]\n",
      " [  53 2405]]\n",
      "\n",
      "Test confusion matrix is: \n",
      "[[974 117]\n",
      " [296 517]]\n",
      "\n",
      "              precision    recall  f1-score   support\n",
      "\n",
      "           0       0.77      0.89      0.83      1091\n",
      "           1       0.82      0.64      0.71       813\n",
      "\n",
      "    accuracy                           0.78      1904\n",
      "   macro avg       0.79      0.76      0.77      1904\n",
      "weighted avg       0.79      0.78      0.78      1904\n",
      "\n",
      "\n",
      "Train accuracy score:  0.9877386582588895\n",
      "Test accuracy score:  0.7830882352941176\n",
      "\n",
      "Train ROC-AUC score:  0.9989262238645229\n",
      "Test ROC-AUC score:  0.8488578698802569\n",
      "\n",
      "Are under Precision-Recall curve: 0.7145818935729095\n",
      "Area under ROC-AUC: 0.8413554324670927\n"
     ]
    },
    {
     "data": {
      "image/png": "[encoded data removed]",
      "text/plain": [
       "<Figure size 432x288 with 2 Axes>"
      ]
     },
     "metadata": {},
     "output_type": "display_data"
    }
   ],
   "source": [
    "r_train_accuracy, r_test_accuracy, r_train_auc, r_test_auc= check_scores(RandomForestClassifier(random_state=0).fit(x_train, y_train), x_train,x_test,y_train,y_test)"
   ]
  },
  {
   "cell_type": "markdown",
   "metadata": {},
   "source": [
    "## Final Results"
   ]
  },
  {
   "cell_type": "code",
   "execution_count": 72,
   "metadata": {},
   "outputs": [
    {
     "data": {
      "text/html": [
       "<div>\n",
       "<style scoped>\n",
       "    .dataframe tbody tr th:only-of-type {\n",
       "        vertical-align: middle;\n",
       "    }\n",
       "\n",
       "    .dataframe tbody tr th {\n",
       "        vertical-align: top;\n",
       "    }\n",
       "\n",
       "    .dataframe thead th {\n",
       "        text-align: right;\n",
       "    }\n",
       "</style>\n",
       "<table border=\"1\" class=\"dataframe\">\n",
       "  <thead>\n",
       "    <tr style=\"text-align: right;\">\n",
       "      <th></th>\n",
       "      <th>Train Accuracy</th>\n",
       "      <th>Test Accuracy</th>\n",
       "      <th>Train ROC</th>\n",
       "      <th>Test ROC</th>\n",
       "    </tr>\n",
       "    <tr>\n",
       "      <th>Model Name</th>\n",
       "      <th></th>\n",
       "      <th></th>\n",
       "      <th></th>\n",
       "      <th></th>\n",
       "    </tr>\n",
       "  </thead>\n",
       "  <tbody>\n",
       "    <tr>\n",
       "      <th>Random Forest</th>\n",
       "      <td>0.987739</td>\n",
       "      <td>0.783088</td>\n",
       "      <td>0.998926</td>\n",
       "      <td>0.848858</td>\n",
       "    </tr>\n",
       "    <tr>\n",
       "      <th>MultinomialNB</th>\n",
       "      <td>0.886145</td>\n",
       "      <td>0.807248</td>\n",
       "      <td>0.956581</td>\n",
       "      <td>0.853176</td>\n",
       "    </tr>\n",
       "    <tr>\n",
       "      <th>AdaBoost</th>\n",
       "      <td>0.766334</td>\n",
       "      <td>0.736345</td>\n",
       "      <td>0.791529</td>\n",
       "      <td>0.755233</td>\n",
       "    </tr>\n",
       "    <tr>\n",
       "      <th>AdaBoost Optimized</th>\n",
       "      <td>0.798739</td>\n",
       "      <td>0.763130</td>\n",
       "      <td>0.890806</td>\n",
       "      <td>0.809814</td>\n",
       "    </tr>\n",
       "    <tr>\n",
       "      <th>Gaussian Naive Bayes</th>\n",
       "      <td>0.900333</td>\n",
       "      <td>0.613445</td>\n",
       "      <td>0.912488</td>\n",
       "      <td>0.636367</td>\n",
       "    </tr>\n",
       "    <tr>\n",
       "      <th>SVM</th>\n",
       "      <td>0.965143</td>\n",
       "      <td>0.802521</td>\n",
       "      <td>0.991483</td>\n",
       "      <td>0.858459</td>\n",
       "    </tr>\n",
       "    <tr>\n",
       "      <th>SVM Optimized</th>\n",
       "      <td>0.857418</td>\n",
       "      <td>0.800420</td>\n",
       "      <td>0.936567</td>\n",
       "      <td>0.858960</td>\n",
       "    </tr>\n",
       "  </tbody>\n",
       "</table>\n",
       "</div>"
      ],
      "text/plain": [
       "                      Train Accuracy  Test Accuracy  Train ROC  Test ROC\n",
       "Model Name                                                              \n",
       "Random Forest               0.987739       0.783088   0.998926  0.848858\n",
       "MultinomialNB               0.886145       0.807248   0.956581  0.853176\n",
       "AdaBoost                    0.766334       0.736345   0.791529  0.755233\n",
       "AdaBoost Optimized          0.798739       0.763130   0.890806  0.809814\n",
       "Gaussian Naive Bayes        0.900333       0.613445   0.912488  0.636367\n",
       "SVM                         0.965143       0.802521   0.991483  0.858459\n",
       "SVM Optimized               0.857418       0.800420   0.936567  0.858960"
      ]
     },
     "execution_count": 72,
     "metadata": {},
     "output_type": "execute_result"
    }
   ],
   "source": [
    "data = [('Random Forest', r_train_accuracy, r_test_accuracy, r_train_auc, r_test_auc),\n",
    " ('MultinomialNB',m_train_accuracy, m_test_accuracy, m_train_auc, m_test_auc  ),\n",
    "# ('Bagged MultinomialNB',b_train_accuracy, b_test_accuracy, b_train_auc, b_test_auc ),\n",
    " ('AdaBoost',a_train_accuracy, a_test_accuracy, a_train_auc, a_test_auc ),\n",
    "('AdaBoost Optimized',ao_train_accuracy, ao_test_accuracy, ao_train_auc, ao_test_auc),\n",
    "('Gaussian Naive Bayes',g_train_accuracy, g_test_accuracy, g_train_auc, g_test_auc),\n",
    "('SVM', s_train_accuracy, s_test_accuracy, s_train_auc, s_test_auc),\n",
    "('SVM Optimized', so_train_accuracy, so_test_accuracy, so_train_auc, so_test_auc),\n",
    "# ('LSTM',train_acc_lstm, test_acc_lstm, train_roc_lstm, test_roc_lstm )\n",
    "       ]\n",
    "\n",
    "\n",
    "Scores_ =pd.DataFrame(data = data, columns=['Model Name','Train Accuracy', 'Test Accuracy', 'Train ROC', 'Test ROC'])\n",
    "Scores_.set_index('Model Name', inplace = True)\n",
    "\n",
    "Scores_"
   ]
  },
  {
   "cell_type": "markdown",
   "metadata": {},
   "source": [
    "### ExtraTree Clssifier"
   ]
  },
  {
   "cell_type": "code",
   "execution_count": 207,
   "metadata": {},
   "outputs": [],
   "source": [
    "from sklearn.ensemble import ExtraTreesClassifier"
   ]
  },
  {
   "cell_type": "code",
   "execution_count": 209,
   "metadata": {},
   "outputs": [
    {
     "data": {
      "text/html": [
       "<div>\n",
       "<style scoped>\n",
       "    .dataframe tbody tr th:only-of-type {\n",
       "        vertical-align: middle;\n",
       "    }\n",
       "\n",
       "    .dataframe tbody tr th {\n",
       "        vertical-align: top;\n",
       "    }\n",
       "\n",
       "    .dataframe thead th {\n",
       "        text-align: right;\n",
       "    }\n",
       "</style>\n",
       "<table border=\"1\" class=\"dataframe\">\n",
       "  <thead>\n",
       "    <tr style=\"text-align: right;\">\n",
       "      <th></th>\n",
       "      <th>id</th>\n",
       "      <th>keyword</th>\n",
       "      <th>location</th>\n",
       "      <th>text</th>\n",
       "      <th>target</th>\n",
       "      <th>clean_text</th>\n",
       "    </tr>\n",
       "  </thead>\n",
       "  <tbody>\n",
       "    <tr>\n",
       "      <th>0</th>\n",
       "      <td>1</td>\n",
       "      <td>NaN</td>\n",
       "      <td>NaN</td>\n",
       "      <td>Our Deeds are the Reason of this #earthquake M...</td>\n",
       "      <td>1</td>\n",
       "      <td>deeds the reason this earthquake may allah for...</td>\n",
       "    </tr>\n",
       "    <tr>\n",
       "      <th>1</th>\n",
       "      <td>4</td>\n",
       "      <td>NaN</td>\n",
       "      <td>NaN</td>\n",
       "      <td>Forest fire near La Ronge Sask. Canada</td>\n",
       "      <td>1</td>\n",
       "      <td>forest fire near la ronge sask canada</td>\n",
       "    </tr>\n",
       "    <tr>\n",
       "      <th>2</th>\n",
       "      <td>5</td>\n",
       "      <td>NaN</td>\n",
       "      <td>NaN</td>\n",
       "      <td>All residents asked to 'shelter in place' are ...</td>\n",
       "      <td>1</td>\n",
       "      <td>residents ask to shelter place notify officer ...</td>\n",
       "    </tr>\n",
       "    <tr>\n",
       "      <th>3</th>\n",
       "      <td>6</td>\n",
       "      <td>NaN</td>\n",
       "      <td>NaN</td>\n",
       "      <td>13,000 people receive #wildfires evacuation or...</td>\n",
       "      <td>1</td>\n",
       "      <td>people receive wildfires evacuation order cali...</td>\n",
       "    </tr>\n",
       "    <tr>\n",
       "      <th>4</th>\n",
       "      <td>7</td>\n",
       "      <td>NaN</td>\n",
       "      <td>NaN</td>\n",
       "      <td>Just got sent this photo from Ruby #Alaska as ...</td>\n",
       "      <td>1</td>\n",
       "      <td>just get send this photo ruby alaska smoke wil...</td>\n",
       "    </tr>\n",
       "    <tr>\n",
       "      <th>...</th>\n",
       "      <td>...</td>\n",
       "      <td>...</td>\n",
       "      <td>...</td>\n",
       "      <td>...</td>\n",
       "      <td>...</td>\n",
       "      <td>...</td>\n",
       "    </tr>\n",
       "    <tr>\n",
       "      <th>7608</th>\n",
       "      <td>10869</td>\n",
       "      <td>NaN</td>\n",
       "      <td>NaN</td>\n",
       "      <td>Two giant cranes holding a bridge collapse int...</td>\n",
       "      <td>1</td>\n",
       "      <td>two giant crane hold bridge collapse into near...</td>\n",
       "    </tr>\n",
       "    <tr>\n",
       "      <th>7609</th>\n",
       "      <td>10870</td>\n",
       "      <td>NaN</td>\n",
       "      <td>NaN</td>\n",
       "      <td>@aria_ahrary @TheTawniest The out of control w...</td>\n",
       "      <td>1</td>\n",
       "      <td>aria ahrary thetawniest the out control wild f...</td>\n",
       "    </tr>\n",
       "    <tr>\n",
       "      <th>7610</th>\n",
       "      <td>10871</td>\n",
       "      <td>NaN</td>\n",
       "      <td>NaN</td>\n",
       "      <td>M1.94 [01:04 UTC]?5km S of Volcano Hawaii. htt...</td>\n",
       "      <td>1</td>\n",
       "      <td>utc km volcano hawaii</td>\n",
       "    </tr>\n",
       "    <tr>\n",
       "      <th>7611</th>\n",
       "      <td>10872</td>\n",
       "      <td>NaN</td>\n",
       "      <td>NaN</td>\n",
       "      <td>Police investigating after an e-bike collided ...</td>\n",
       "      <td>1</td>\n",
       "      <td>police investigate after bike collide with car...</td>\n",
       "    </tr>\n",
       "    <tr>\n",
       "      <th>7612</th>\n",
       "      <td>10873</td>\n",
       "      <td>NaN</td>\n",
       "      <td>NaN</td>\n",
       "      <td>The Latest: More Homes Razed by Northern Calif...</td>\n",
       "      <td>1</td>\n",
       "      <td>the latest home raze northern california wildf...</td>\n",
       "    </tr>\n",
       "  </tbody>\n",
       "</table>\n",
       "<p>7613 rows × 6 columns</p>\n",
       "</div>"
      ],
      "text/plain": [
       "         id keyword location  \\\n",
       "0         1     NaN      NaN   \n",
       "1         4     NaN      NaN   \n",
       "2         5     NaN      NaN   \n",
       "3         6     NaN      NaN   \n",
       "4         7     NaN      NaN   \n",
       "...     ...     ...      ...   \n",
       "7608  10869     NaN      NaN   \n",
       "7609  10870     NaN      NaN   \n",
       "7610  10871     NaN      NaN   \n",
       "7611  10872     NaN      NaN   \n",
       "7612  10873     NaN      NaN   \n",
       "\n",
       "                                                   text  target  \\\n",
       "0     Our Deeds are the Reason of this #earthquake M...       1   \n",
       "1                Forest fire near La Ronge Sask. Canada       1   \n",
       "2     All residents asked to 'shelter in place' are ...       1   \n",
       "3     13,000 people receive #wildfires evacuation or...       1   \n",
       "4     Just got sent this photo from Ruby #Alaska as ...       1   \n",
       "...                                                 ...     ...   \n",
       "7608  Two giant cranes holding a bridge collapse int...       1   \n",
       "7609  @aria_ahrary @TheTawniest The out of control w...       1   \n",
       "7610  M1.94 [01:04 UTC]?5km S of Volcano Hawaii. htt...       1   \n",
       "7611  Police investigating after an e-bike collided ...       1   \n",
       "7612  The Latest: More Homes Razed by Northern Calif...       1   \n",
       "\n",
       "                                             clean_text  \n",
       "0     deeds the reason this earthquake may allah for...  \n",
       "1                 forest fire near la ronge sask canada  \n",
       "2     residents ask to shelter place notify officer ...  \n",
       "3     people receive wildfires evacuation order cali...  \n",
       "4     just get send this photo ruby alaska smoke wil...  \n",
       "...                                                 ...  \n",
       "7608  two giant crane hold bridge collapse into near...  \n",
       "7609  aria ahrary thetawniest the out control wild f...  \n",
       "7610                              utc km volcano hawaii  \n",
       "7611  police investigate after bike collide with car...  \n",
       "7612  the latest home raze northern california wildf...  \n",
       "\n",
       "[7613 rows x 6 columns]"
      ]
     },
     "execution_count": 209,
     "metadata": {},
     "output_type": "execute_result"
    }
   ],
   "source": [
    "train_df"
   ]
  },
  {
   "cell_type": "code",
   "execution_count": 213,
   "metadata": {},
   "outputs": [
    {
     "data": {
      "text/plain": [
       "array([[0., 0., 0., ..., 0., 0., 0.],\n",
       "       [0., 0., 0., ..., 0., 0., 0.],\n",
       "       [0., 0., 0., ..., 0., 0., 0.],\n",
       "       ...,\n",
       "       [0., 0., 0., ..., 0., 0., 0.],\n",
       "       [0., 0., 0., ..., 0., 0., 0.],\n",
       "       [0., 0., 0., ..., 0., 0., 0.]])"
      ]
     },
     "execution_count": 213,
     "metadata": {},
     "output_type": "execute_result"
    }
   ],
   "source": [
    "x_train.toarray()"
   ]
  },
  {
   "cell_type": "code",
   "execution_count": 239,
   "metadata": {},
   "outputs": [
    {
     "data": {
      "text/html": [
       "<style>#sk-container-id-7 {color: black;background-color: white;}#sk-container-id-7 pre{padding: 0;}#sk-container-id-7 div.sk-toggleable {background-color: white;}#sk-container-id-7 label.sk-toggleable__label {cursor: pointer;display: block;width: 100%;margin-bottom: 0;padding: 0.3em;box-sizing: border-box;text-align: center;}#sk-container-id-7 label.sk-toggleable__label-arrow:before {content: \"▸\";float: left;margin-right: 0.25em;color: #696969;}#sk-container-id-7 label.sk-toggleable__label-arrow:hover:before {color: black;}#sk-container-id-7 div.sk-estimator:hover label.sk-toggleable__label-arrow:before {color: black;}#sk-container-id-7 div.sk-toggleable__content {max-height: 0;max-width: 0;overflow: hidden;text-align: left;background-color: #f0f8ff;}#sk-container-id-7 div.sk-toggleable__content pre {margin: 0.2em;color: black;border-radius: 0.25em;background-color: #f0f8ff;}#sk-container-id-7 input.sk-toggleable__control:checked~div.sk-toggleable__content {max-height: 200px;max-width: 100%;overflow: auto;}#sk-container-id-7 input.sk-toggleable__control:checked~label.sk-toggleable__label-arrow:before {content: \"▾\";}#sk-container-id-7 div.sk-estimator input.sk-toggleable__control:checked~label.sk-toggleable__label {background-color: #d4ebff;}#sk-container-id-7 div.sk-label input.sk-toggleable__control:checked~label.sk-toggleable__label {background-color: #d4ebff;}#sk-container-id-7 input.sk-hidden--visually {border: 0;clip: rect(1px 1px 1px 1px);clip: rect(1px, 1px, 1px, 1px);height: 1px;margin: -1px;overflow: hidden;padding: 0;position: absolute;width: 1px;}#sk-container-id-7 div.sk-estimator {font-family: monospace;background-color: #f0f8ff;border: 1px dotted black;border-radius: 0.25em;box-sizing: border-box;margin-bottom: 0.5em;}#sk-container-id-7 div.sk-estimator:hover {background-color: #d4ebff;}#sk-container-id-7 div.sk-parallel-item::after {content: \"\";width: 100%;border-bottom: 1px solid gray;flex-grow: 1;}#sk-container-id-7 div.sk-label:hover label.sk-toggleable__label {background-color: #d4ebff;}#sk-container-id-7 div.sk-serial::before {content: \"\";position: absolute;border-left: 1px solid gray;box-sizing: border-box;top: 0;bottom: 0;left: 50%;z-index: 0;}#sk-container-id-7 div.sk-serial {display: flex;flex-direction: column;align-items: center;background-color: white;padding-right: 0.2em;padding-left: 0.2em;position: relative;}#sk-container-id-7 div.sk-item {position: relative;z-index: 1;}#sk-container-id-7 div.sk-parallel {display: flex;align-items: stretch;justify-content: center;background-color: white;position: relative;}#sk-container-id-7 div.sk-item::before, #sk-container-id-7 div.sk-parallel-item::before {content: \"\";position: absolute;border-left: 1px solid gray;box-sizing: border-box;top: 0;bottom: 0;left: 50%;z-index: -1;}#sk-container-id-7 div.sk-parallel-item {display: flex;flex-direction: column;z-index: 1;position: relative;background-color: white;}#sk-container-id-7 div.sk-parallel-item:first-child::after {align-self: flex-end;width: 50%;}#sk-container-id-7 div.sk-parallel-item:last-child::after {align-self: flex-start;width: 50%;}#sk-container-id-7 div.sk-parallel-item:only-child::after {width: 0;}#sk-container-id-7 div.sk-dashed-wrapped {border: 1px dashed gray;margin: 0 0.4em 0.5em 0.4em;box-sizing: border-box;padding-bottom: 0.4em;background-color: white;}#sk-container-id-7 div.sk-label label {font-family: monospace;font-weight: bold;display: inline-block;line-height: 1.2em;}#sk-container-id-7 div.sk-label-container {text-align: center;}#sk-container-id-7 div.sk-container {/* jupyter's `normalize.less` sets `[hidden] { display: none; }` but bootstrap.min.css set `[hidden] { display: none !important; }` so we also need the `!important` here to be able to override the default hidden behavior on the sphinx rendered scikit-learn.org. See: https://github.com/scikit-learn/scikit-learn/issues/21755 */display: inline-block !important;position: relative;}#sk-container-id-7 div.sk-text-repr-fallback {display: none;}</style><div id=\"sk-container-id-7\" class=\"sk-top-container\"><div class=\"sk-text-repr-fallback\"><pre>ExtraTreesClassifier(max_features=20, min_samples_split=20, n_estimators=700,\n",
       "                     random_state=0)</pre><b>In a Jupyter environment, please rerun this cell to show the HTML representation or trust the notebook. <br />On GitHub, the HTML representation is unable to render, please try loading this page with nbviewer.org.</b></div><div class=\"sk-container\" hidden><div class=\"sk-item\"><div class=\"sk-estimator sk-toggleable\"><input class=\"sk-toggleable__control sk-hidden--visually\" id=\"sk-estimator-id-7\" type=\"checkbox\" checked><label for=\"sk-estimator-id-7\" class=\"sk-toggleable__label sk-toggleable__label-arrow\">ExtraTreesClassifier</label><div class=\"sk-toggleable__content\"><pre>ExtraTreesClassifier(max_features=20, min_samples_split=20, n_estimators=700,\n",
       "                     random_state=0)</pre></div></div></div></div></div>"
      ],
      "text/plain": [
       "ExtraTreesClassifier(max_features=20, min_samples_split=20, n_estimators=700,\n",
       "                     random_state=0)"
      ]
     },
     "execution_count": 239,
     "metadata": {},
     "output_type": "execute_result"
    }
   ],
   "source": [
    "Mod = ExtraTreesClassifier(\n",
    "#     min_impurity_decrease = 0.2,\n",
    "                           max_features= 20, min_samples_split=20, n_estimators=700,\n",
    "                           random_state=0)\n",
    "Mod.fit(x_train, y_train)"
   ]
  },
  {
   "cell_type": "code",
   "execution_count": 240,
   "metadata": {},
   "outputs": [
    {
     "name": "stdout",
     "output_type": "stream",
     "text": [
      "Train accuracy score:  0.9826589595375722\n",
      "Test accuracy score:  0.7956932773109243\n",
      "\n"
     ]
    }
   ],
   "source": [
    "train_accuracy = accuracy_score(y_train,Mod.predict(x_train))\n",
    "test_accuracy = accuracy_score(y_test,Mod.predict(x_test))\n",
    "\n",
    "print(\"Train accuracy score: \", train_accuracy)\n",
    "print(\"Test accuracy score: \",test_accuracy )\n",
    "print()"
   ]
  },
  {
   "cell_type": "code",
   "execution_count": 235,
   "metadata": {},
   "outputs": [
    {
     "name": "stdout",
     "output_type": "stream",
     "text": [
      "Fitting 2 folds for each of 9 candidates, totalling 18 fits\n",
      "[CV] END max_features=10, min_samples_split=10, n_estimators=100; total time=  12.2s\n",
      "[CV] END max_features=10, min_samples_split=10, n_estimators=100; total time=  11.8s\n",
      "[CV] END max_features=10, min_samples_split=20, n_estimators=100; total time=  11.8s\n",
      "[CV] END max_features=10, min_samples_split=20, n_estimators=100; total time=  11.3s\n",
      "[CV] END max_features=10, min_samples_split=50, n_estimators=100; total time=  11.7s\n",
      "[CV] END max_features=10, min_samples_split=50, n_estimators=100; total time=  11.2s\n",
      "[CV] END max_features=50, min_samples_split=10, n_estimators=100; total time=   9.9s\n",
      "[CV] END max_features=50, min_samples_split=10, n_estimators=100; total time=   9.3s\n",
      "[CV] END max_features=50, min_samples_split=20, n_estimators=100; total time=   9.7s\n",
      "[CV] END max_features=50, min_samples_split=20, n_estimators=100; total time=   9.0s\n",
      "[CV] END max_features=50, min_samples_split=50, n_estimators=100; total time=   9.7s\n",
      "[CV] END max_features=50, min_samples_split=50, n_estimators=100; total time=   8.7s\n",
      "[CV] END max_features=500, min_samples_split=10, n_estimators=100; total time=  12.6s\n",
      "[CV] END max_features=500, min_samples_split=10, n_estimators=100; total time=  11.8s\n",
      "[CV] END max_features=500, min_samples_split=20, n_estimators=100; total time=  13.1s\n",
      "[CV] END max_features=500, min_samples_split=20, n_estimators=100; total time=  11.6s\n",
      "[CV] END max_features=500, min_samples_split=50, n_estimators=100; total time=  12.3s\n",
      "[CV] END max_features=500, min_samples_split=50, n_estimators=100; total time=  10.9s\n",
      "\n",
      "\n",
      "Best parameters are: \n",
      "{'max_features': 10, 'min_samples_split': 50, 'n_estimators': 100}\n"
     ]
    }
   ],
   "source": [
    "params = {'n_estimators': [100],\n",
    "          'min_samples_split':[10, 20, 50],\n",
    "          'max_features': [10, 50, 500]}\n",
    "\n",
    "ext_optimal_model = grid_search(ExtraTreesClassifier(), params,x_train, y_train)"
   ]
  },
  {
   "cell_type": "code",
   "execution_count": 236,
   "metadata": {},
   "outputs": [
    {
     "name": "stdout",
     "output_type": "stream",
     "text": [
      "Train accuracy score:  0.978104746890874\n",
      "Test accuracy score:  0.789390756302521\n",
      "\n"
     ]
    }
   ],
   "source": [
    "train_accuracy = accuracy_score(y_train,ext_optimal_model.predict(x_train))\n",
    "test_accuracy = accuracy_score(y_test,ext_optimal_model.predict(x_test))\n",
    "\n",
    "print(\"Train accuracy score: \", train_accuracy)\n",
    "print(\"Test accuracy score: \",test_accuracy )\n",
    "print()"
   ]
  },
  {
   "cell_type": "code",
   "execution_count": 248,
   "metadata": {},
   "outputs": [],
   "source": [
    "def predict(data, Mod):\n",
    "    data = preprocess(data)\n",
    "    X_tf_idf= vectorizer.transform(data.clean_text)\n",
    "    \n",
    "    pred_y = Mod.predict(X_tf_idf)\n",
    "    data['target'] = pred_y\n",
    "    return data[['id', 'target']]\n",
    "\n",
    "# ex_test = predict(test_df, Mod)\n",
    "\n",
    "\n",
    "# ex_test.to_csv('extratree.csv', index = False)"
   ]
  },
  {
   "cell_type": "markdown",
   "metadata": {},
   "source": [
    "### XGBoost"
   ]
  },
  {
   "cell_type": "code",
   "execution_count": 242,
   "metadata": {},
   "outputs": [
    {
     "name": "stdout",
     "output_type": "stream",
     "text": [
      "Collecting xgboost\n",
      "  Using cached xgboost-1.6.1-py3-none-win_amd64.whl (125.4 MB)\n",
      "Requirement already satisfied: numpy in c:\\users\\sumanta\\anaconda3\\envs\\tf_gpu\\lib\\site-packages (from xgboost) (1.22.3)\n",
      "Requirement already satisfied: scipy in c:\\users\\sumanta\\anaconda3\\envs\\tf_gpu\\lib\\site-packages (from xgboost) (1.7.3)\n",
      "Installing collected packages: xgboost\n",
      "Successfully installed xgboost-1.6.1\n"
     ]
    }
   ],
   "source": [
    "!pip install xgboost"
   ]
  },
  {
   "cell_type": "code",
   "execution_count": 243,
   "metadata": {},
   "outputs": [],
   "source": [
    "from xgboost import XGBClassifier\n"
   ]
  },
  {
   "cell_type": "code",
   "execution_count": 289,
   "metadata": {},
   "outputs": [
    {
     "name": "stdout",
     "output_type": "stream",
     "text": [
      "\n",
      "Train accuracy score:  0.9278332457523208\n",
      "Test accuracy score:  0.7673319327731093\n"
     ]
    }
   ],
   "source": [
    "xg = XGBClassifier(random_state = 0, learning_rate=1.1\n",
    "                   , max_depth=3, n_estimators=200, max_bin = 25,\n",
    "                  grow_policy = 'lossguide', gamma = 0.01)\n",
    "\n",
    "xg.fit(x_train, y_train)\n",
    "print()\n",
    "train_accuracy = accuracy_score(y_train,xg.predict(x_train))\n",
    "test_accuracy = accuracy_score(y_test,xg.predict(x_test))\n",
    "\n",
    "print(\"Train accuracy score: \", train_accuracy)\n",
    "print(\"Test accuracy score: \",test_accuracy )"
   ]
  },
  {
   "cell_type": "code",
   "execution_count": 249,
   "metadata": {},
   "outputs": [],
   "source": [
    "xg_test = predict(test_df, xg)\n",
    "xg_test.to_csv('xg_boost.csv', index = False)"
   ]
  },
  {
   "cell_type": "markdown",
   "metadata": {},
   "source": [
    "## Stacking Models (MultinomialNB,  RF, Ada, SVM Optimised)\n"
   ]
  },
  {
   "cell_type": "code",
   "execution_count": 75,
   "metadata": {},
   "outputs": [
    {
     "data": {
      "text/plain": [
       "array([[0., 0., 0., ..., 0., 0., 0.],\n",
       "       [0., 0., 0., ..., 0., 0., 0.],\n",
       "       [0., 0., 0., ..., 0., 0., 0.],\n",
       "       ...,\n",
       "       [0., 0., 0., ..., 0., 0., 0.],\n",
       "       [0., 0., 0., ..., 0., 0., 0.],\n",
       "       [0., 0., 0., ..., 0., 0., 0.]])"
      ]
     },
     "execution_count": 75,
     "metadata": {},
     "output_type": "execute_result"
    }
   ],
   "source": [
    "x_train.toarray()"
   ]
  },
  {
   "cell_type": "code",
   "execution_count": null,
   "metadata": {},
   "outputs": [],
   "source": [
    "test_df\n",
    " x_train,x_test,y_train,y_test"
   ]
  },
  {
   "cell_type": "code",
   "execution_count": 81,
   "metadata": {},
   "outputs": [],
   "source": [
    "rf_mo = RandomForestClassifier(random_state=0).fit(x_train, y_train)\n",
    "ada_mo = ada_optimal_model.fit(x_train, y_train)\n",
    "gaus_mo = GaussianNB().fit(x_train.toarray(), y_train)\n",
    "mul_mo = MultinomialNB().fit(x_train, y_train)\n",
    "svc_mo = svm.SVC( probability=True).fit(x_train, y_train)"
   ]
  },
  {
   "cell_type": "code",
   "execution_count": 162,
   "metadata": {},
   "outputs": [],
   "source": [
    "def predict1(x_test):\n",
    "    df= pd.DataFrame()\n",
    "\n",
    "    \n",
    "    \n",
    "    df['rf_pred_y'] = rf_mo.predict(x_test)\n",
    "    df['ada_pred_y'] = ada_mo.predict(x_test)\n",
    "    df['gaus_pred_y'] = gaus_mo.predict(x_test.toarray())\n",
    "    df['mul_pred_y'] = mul_mo.predict(x_test)\n",
    "    df['svc_pred_y'] = svc_mo.predict(x_test)\n",
    "\n",
    "#     pred_y = np.where(val_y>0.5, 1, 0)\n",
    "    df['cum_y'] = df[['rf_pred_y', 'ada_pred_y', 'gaus_pred_y', 'mul_pred_y', 'svc_pred_y']].sum(axis=1)\n",
    "    df['pred_y'] = np.where((df['cum_y']>2), 1, 0)\n",
    "    df['actual'] = y_test.reset_index(drop =True)\n",
    "    \n",
    "    \n",
    "    return df"
   ]
  },
  {
   "cell_type": "code",
   "execution_count": 163,
   "metadata": {},
   "outputs": [
    {
     "name": "stdout",
     "output_type": "stream",
     "text": [
      "CPU times: total: 2.17 s\n",
      "Wall time: 2.15 s\n"
     ]
    }
   ],
   "source": [
    "%%time\n",
    "stacked_result = predict1(x_test)"
   ]
  },
  {
   "cell_type": "code",
   "execution_count": 164,
   "metadata": {},
   "outputs": [
    {
     "name": "stdout",
     "output_type": "stream",
     "text": [
      "Test confusion matrix is: \n",
      "[[1008   83]\n",
      " [ 292  521]]\n"
     ]
    }
   ],
   "source": [
    "print('Test confusion matrix is: ',)\n",
    "print(confusion_matrix(stacked_result['actual'], stacked_result['pred_y']))"
   ]
  },
  {
   "cell_type": "code",
   "execution_count": 165,
   "metadata": {},
   "outputs": [
    {
     "name": "stdout",
     "output_type": "stream",
     "text": [
      "Train accuracy score:  0.803046218487395\n"
     ]
    }
   ],
   "source": [
    "print(\"Train accuracy score: \", accuracy_score(stacked_result['actual'], stacked_result['pred_y']))"
   ]
  },
  {
   "cell_type": "code",
   "execution_count": 319,
   "metadata": {},
   "outputs": [],
   "source": [
    "def predict2(x_test, num_mod = 2):\n",
    "    df= pd.DataFrame()\n",
    "\n",
    "    \n",
    "    \n",
    "    df['rf_pred_y'] = rf_mo.predict(x_test)\n",
    "    df['ada_pred_y'] = ada_mo.predict(x_test)\n",
    "    df['gaus_pred_y'] = gaus_mo.predict(x_test.toarray())\n",
    "    df['mul_pred_y'] = mul_mo.predict(x_test)\n",
    "    df['svc_pred_y'] = svc_mo.predict(x_test)\n",
    "    df['xg_pred_y'] = xg.predict(x_test)\n",
    "    df['ex_pred_y'] = Mod.predict(x_test)\n",
    "#     pred_y = np.where(val_y>0.5, 1, 0)\n",
    "    df['cum_y'] = df[['rf_pred_y', 'ada_pred_y', 'gaus_pred_y', 'mul_pred_y', 'svc_pred_y', 'xg_pred_y',\n",
    "                      'ex_pred_y']].sum(axis=1)\n",
    "    df['pred_y'] = np.where((df['cum_y']>num_mod), 1, 0)\n",
    "#     df['actual'] = y_test.reset_index(drop =True)\n",
    "    \n",
    "    \n",
    "    return df['pred_y']"
   ]
  },
  {
   "cell_type": "code",
   "execution_count": 320,
   "metadata": {},
   "outputs": [],
   "source": [
    "def predict(data, num_mod):\n",
    "    data = preprocess(data)\n",
    "    X_tf_idf= vectorizer.transform(data.clean_text)\n",
    "    \n",
    "    pred_y = predict2(X_tf_idf, num_mod)\n",
    "    data['target'] = pred_y\n",
    "    return data[['id', 'target']]\n",
    "    \n",
    "    \n",
    "    "
   ]
  },
  {
   "cell_type": "code",
   "execution_count": 321,
   "metadata": {},
   "outputs": [],
   "source": [
    "g = predict(test_df, 4)"
   ]
  },
  {
   "cell_type": "code",
   "execution_count": 322,
   "metadata": {},
   "outputs": [
    {
     "data": {
      "text/plain": [
       "0    2343\n",
       "1     920\n",
       "Name: target, dtype: int64"
      ]
     },
     "execution_count": 322,
     "metadata": {},
     "output_type": "execute_result"
    }
   ],
   "source": [
    "g['target'].value_counts()"
   ]
  },
  {
   "cell_type": "code",
   "execution_count": 308,
   "metadata": {},
   "outputs": [
    {
     "data": {
      "text/plain": [
       "0    2067\n",
       "1    1196\n",
       "Name: target, dtype: int64"
      ]
     },
     "execution_count": 308,
     "metadata": {},
     "output_type": "execute_result"
    }
   ],
   "source": [
    "g['target'].value_counts()"
   ]
  },
  {
   "cell_type": "code",
   "execution_count": 323,
   "metadata": {},
   "outputs": [],
   "source": [
    "# Saving Output of Stacked models\n",
    "\n",
    "g.to_csv('Stacked_output 3.csv', index= False)"
   ]
  },
  {
   "cell_type": "markdown",
   "metadata": {},
   "source": [
    "### LSTM Model Training"
   ]
  },
  {
   "cell_type": "code",
   "execution_count": 16,
   "metadata": {},
   "outputs": [],
   "source": [
    "import tensorflow as tf\n",
    "from tensorflow.keras.layers import LeakyReLU\n",
    "from tensorflow.keras.preprocessing.text import Tokenizer\n",
    "from tensorflow.keras.preprocessing.sequence import pad_sequences\n",
    "from tensorflow.keras.models import Sequential\n",
    "from tensorflow.keras.layers import LSTM, Dense, Embedding, SpatialDropout1D, Dropout, Bidirectional\n",
    "\n",
    "tf.random.set_seed(7)\n",
    "from termcolor import colored"
   ]
  },
  {
   "cell_type": "code",
   "execution_count": 17,
   "metadata": {},
   "outputs": [
    {
     "data": {
      "text/plain": [
       "[LogicalDevice(name='/device:CPU:0', device_type='CPU'),\n",
       " LogicalDevice(name='/device:GPU:0', device_type='GPU')]"
      ]
     },
     "execution_count": 17,
     "metadata": {},
     "output_type": "execute_result"
    }
   ],
   "source": [
    "tf.config.list_logical_devices()"
   ]
  },
  {
   "cell_type": "code",
   "execution_count": 20,
   "metadata": {},
   "outputs": [
    {
     "name": "stdout",
     "output_type": "stream",
     "text": [
      "\u001b[31mTokenizing and padding data\u001b[0m\n"
     ]
    }
   ],
   "source": [
    "print(colored(\"Tokenizing and padding data\", \"red\"))\n",
    "\n",
    "tokenizer = Tokenizer(\n",
    "#     num_words = 2000, \n",
    "    split = ' ')\n",
    "\n",
    "tokenizer.fit_on_texts(train_df['clean_text'].astype(str).values)\n",
    "\n",
    "\n",
    "train_tweets1 = tokenizer.texts_to_sequences(train_df['clean_text'].astype(str).values)\n",
    "\n",
    "# max_len = max([len(i) for i in train_tweets1])\n",
    "max_len = 25\n",
    "\n",
    "train_tweets = pad_sequences(train_tweets1, maxlen = 25, padding= 'pre')\n",
    "\n",
    "# test_tweets = tokenizer.texts_to_sequences(test_df['clean_text'].astype(str).values)\n",
    "\n",
    "# test_tweets = pad_sequences(test_tweets, maxlen = max_len)\n",
    "\n",
    "# print(colored(\"Tokenizing and padding complete\", \"red\"))"
   ]
  },
  {
   "cell_type": "markdown",
   "metadata": {},
   "source": [
    "## Training"
   ]
  },
  {
   "cell_type": "code",
   "execution_count": 26,
   "metadata": {},
   "outputs": [
    {
     "data": {
      "text/plain": [
       "[3754, 1, 493, 7, 240, 99, 1380, 1845, 56]"
      ]
     },
     "execution_count": 26,
     "metadata": {},
     "output_type": "execute_result"
    }
   ],
   "source": [
    "train_tweets1[0]"
   ]
  },
  {
   "cell_type": "code",
   "execution_count": 27,
   "metadata": {},
   "outputs": [
    {
     "data": {
      "text/plain": [
       "array([   0,    0,    0,    0,    0,    0,    0,    0,    0,    0,    0,\n",
       "          0,    0,    0,    0,    0, 3754,    1,  493,    7,  240,   99,\n",
       "       1380, 1845,   56])"
      ]
     },
     "execution_count": 27,
     "metadata": {},
     "output_type": "execute_result"
    }
   ],
   "source": [
    "train_tweets[0]"
   ]
  },
  {
   "cell_type": "code",
   "execution_count": 28,
   "metadata": {},
   "outputs": [
    {
     "data": {
      "text/plain": [
       "(7613, 25)"
      ]
     },
     "execution_count": 28,
     "metadata": {},
     "output_type": "execute_result"
    }
   ],
   "source": [
    "train_tweets.shape"
   ]
  },
  {
   "cell_type": "code",
   "execution_count": 21,
   "metadata": {},
   "outputs": [],
   "source": [
    "train_X = train_tweets[:6500]\n",
    "validation_X = train_tweets[6500:]\n",
    "train_y = train_df['target'][:6500]\n",
    "validation_y = train_df['target'][6500:]"
   ]
  },
  {
   "cell_type": "markdown",
   "metadata": {},
   "source": [
    "## Model Training"
   ]
  },
  {
   "cell_type": "markdown",
   "metadata": {},
   "source": [
    "### Word Embedding"
   ]
  },
  {
   "cell_type": "code",
   "execution_count": 30,
   "metadata": {},
   "outputs": [],
   "source": [
    "# vocab_size = 15000\n",
    "# dim_size = 100\n",
    "# max_length = 21\n",
    "# # Building the model\n",
    "# print(colored(\"Creating the Word2Vec model\", \"yellow\"))\n",
    "# vec = Sequential()\n",
    "# vec.add(Embedding(input_dim = vocab_size, output_dim= dim_size))\n",
    "# vec.summary()        \n"
   ]
  },
  {
   "cell_type": "markdown",
   "metadata": {},
   "source": [
    "### Training"
   ]
  },
  {
   "cell_type": "code",
   "execution_count": 31,
   "metadata": {},
   "outputs": [],
   "source": [
    "import gc"
   ]
  },
  {
   "cell_type": "markdown",
   "metadata": {},
   "source": [
    "### Training for multiple iterations\n"
   ]
  },
  {
   "cell_type": "code",
   "execution_count": null,
   "metadata": {},
   "outputs": [],
   "source": [
    "del model, train, val\n",
    "gc.collect()"
   ]
  },
  {
   "cell_type": "code",
   "execution_count": 38,
   "metadata": {
    "scrolled": false
   },
   "outputs": [
    {
     "name": "stdout",
     "output_type": "stream",
     "text": [
      "WARNING:tensorflow:Layer lstm_8 will not use cuDNN kernels since it doesn't meet the criteria. It will use a generic GPU kernel as fallback when running on GPU.\n",
      "WARNING:tensorflow:Layer lstm_9 will not use cuDNN kernels since it doesn't meet the criteria. It will use a generic GPU kernel as fallback when running on GPU.\n",
      "Epoch 1/4\n",
      "36/36 [==============================] - 15s 273ms/step - loss: 0.6852 - accuracy: 0.5758 - val_loss: 0.6803 - val_accuracy: 0.5810\n",
      "Epoch 2/4\n",
      "36/36 [==============================] - 10s 277ms/step - loss: 0.6676 - accuracy: 0.5998 - val_loss: 0.6586 - val_accuracy: 0.7113\n",
      "Epoch 3/4\n",
      "36/36 [==============================] - 10s 273ms/step - loss: 0.5654 - accuracy: 0.7991 - val_loss: 0.7124 - val_accuracy: 0.6133\n",
      "Epoch 4/4\n",
      "36/36 [==============================] - 10s 270ms/step - loss: 0.3314 - accuracy: 0.8668 - val_loss: 0.5913 - val_accuracy: 0.7303\n",
      "WARNING:tensorflow:Layer lstm_10 will not use cuDNN kernels since it doesn't meet the criteria. It will use a generic GPU kernel as fallback when running on GPU.\n",
      "WARNING:tensorflow:Layer lstm_11 will not use cuDNN kernels since it doesn't meet the criteria. It will use a generic GPU kernel as fallback when running on GPU.\n",
      "Epoch 1/4\n",
      "36/36 [==============================] - 17s 342ms/step - loss: 0.6857 - accuracy: 0.5774 - val_loss: 0.6794 - val_accuracy: 0.5810\n",
      "Epoch 2/4\n",
      "36/36 [==============================] - 10s 281ms/step - loss: 0.6663 - accuracy: 0.5969 - val_loss: 0.6540 - val_accuracy: 0.7174\n",
      "Epoch 3/4\n",
      "36/36 [==============================] - 10s 280ms/step - loss: 0.5973 - accuracy: 0.7851 - val_loss: 0.5659 - val_accuracy: 0.7297\n",
      "Epoch 4/4\n",
      "36/36 [==============================] - 10s 285ms/step - loss: 0.3593 - accuracy: 0.8587 - val_loss: 0.5743 - val_accuracy: 0.7328\n",
      "WARNING:tensorflow:Layer lstm_12 will not use cuDNN kernels since it doesn't meet the criteria. It will use a generic GPU kernel as fallback when running on GPU.\n",
      "WARNING:tensorflow:Layer lstm_13 will not use cuDNN kernels since it doesn't meet the criteria. It will use a generic GPU kernel as fallback when running on GPU.\n",
      "Epoch 1/4\n",
      "36/36 [==============================] - 16s 301ms/step - loss: 0.6869 - accuracy: 0.5714 - val_loss: 0.6818 - val_accuracy: 0.5810\n",
      "Epoch 2/4\n",
      "36/36 [==============================] - 10s 268ms/step - loss: 0.6685 - accuracy: 0.5965 - val_loss: 0.6574 - val_accuracy: 0.7169\n",
      "Epoch 3/4\n",
      "36/36 [==============================] - 10s 275ms/step - loss: 0.5646 - accuracy: 0.7969 - val_loss: 0.6007 - val_accuracy: 0.6908\n",
      "Epoch 4/4\n",
      "36/36 [==============================] - 11s 297ms/step - loss: 0.3279 - accuracy: 0.8712 - val_loss: 0.5955 - val_accuracy: 0.7226\n"
     ]
    }
   ],
   "source": [
    "# collect data across multiple repeats\n",
    "iterations = 3\n",
    "epo = 4\n",
    "\n",
    "vocab_size = 15000\n",
    "dim_size = 10\n",
    "max_length = 25\n",
    "\n",
    "train_loss = pd.DataFrame()\n",
    "val_loss = pd.DataFrame()\n",
    "\n",
    "train_accuracy = pd.DataFrame()\n",
    "val_accuracy = pd.DataFrame()\n",
    "\n",
    "for i in range(iterations):\n",
    "    model = Sequential()\n",
    "    model.add(Embedding(input_dim = vocab_size, output_dim= dim_size, input_length = max_length))\n",
    "    model.add(Dropout(0.2))\n",
    "#     model.add(LSTM(units =264, activation = 'tanh', recurrent_dropout = 0.2, return_sequences = True))\n",
    "#     model.add(Dropout(0.5))\n",
    "    model.add(LSTM(units = 128, activation='tanh', recurrent_dropout = 0.6, return_sequences=True))\n",
    "#     model.add(Dropout(0.7))\n",
    "    model.add(LSTM(units = 64, activation = 'tanh', recurrent_dropout = 0.7\n",
    "#                    , return_sequences= True\n",
    "                  ))\n",
    "\n",
    "#     model.add(LSTM(units =16, activation = LeakyReLU(alpha=0.1)))\n",
    "    model.add(Dropout(0.2))\n",
    "    model.add(Dense(units = 16, activation= LeakyReLU(alpha=0.3)))\n",
    "#     model.add(Dropout(0.2))\n",
    "    model.add(Dense(units = 1, activation = 'sigmoid'))\n",
    "    model.compile(optimizer='adam', loss = 'binary_crossentropy', metrics= ['accuracy'])\n",
    "\n",
    "    # fit model\n",
    "    history = model.fit(train_X, train_y, epochs = epo, batch_size = 128,\n",
    "#                     validation_data= (validation_X, validation_y),\n",
    "                        shuffle=False,\n",
    "                   validation_split = 0.3\n",
    "                       )\n",
    "    \n",
    "    # story history\n",
    "    train_loss[str(i)] = history.history['loss']\n",
    "    val_loss[str(i)] = history.history['val_loss']\n",
    "    \n",
    "    train_accuracy[str(i)] = history.history['accuracy']\n",
    "    val_accuracy[str(i)] = history.history['val_accuracy']\n"
   ]
  },
  {
   "cell_type": "code",
   "execution_count": 34,
   "metadata": {},
   "outputs": [
    {
     "data": {
      "image/png": "[encoded data removed]",
      "text/plain": [
       "<Figure size 432x288 with 1 Axes>"
      ]
     },
     "metadata": {
      "needs_background": "light"
     },
     "output_type": "display_data"
    }
   ],
   "source": [
    "# plot train and validation loss across multiple runs\n",
    "plt.plot(train_loss, color='blue', label='train')\n",
    "plt.plot(val_loss, color='orange', label='validation')\n",
    "plt.title('model train vs validation loss')\n",
    "plt.ylabel('loss')\n",
    "plt.xlabel('epoch')\n",
    "plt.show()"
   ]
  },
  {
   "cell_type": "code",
   "execution_count": 35,
   "metadata": {},
   "outputs": [
    {
     "data": {
      "image/png": "[encoded data removed]",
      "text/plain": [
       "<Figure size 432x288 with 1 Axes>"
      ]
     },
     "metadata": {
      "needs_background": "light"
     },
     "output_type": "display_data"
    }
   ],
   "source": [
    "    \n",
    "# plot train and validation loss across multiple runs\n",
    "plt.plot(train_accuracy, color='blue', label='train')\n",
    "plt.plot(val_accuracy, color='orange', label='validation')\n",
    "plt.title('model train vs validation loss')\n",
    "plt.ylabel('Accuracy')\n",
    "plt.xlabel('epoch')\n",
    "plt.show()"
   ]
  },
  {
   "cell_type": "markdown",
   "metadata": {},
   "source": [
    "### ModelWrapper"
   ]
  },
  {
   "cell_type": "code",
   "execution_count": 43,
   "metadata": {},
   "outputs": [],
   "source": [
    "import pickle as pkl"
   ]
  },
  {
   "cell_type": "code",
   "execution_count": null,
   "metadata": {},
   "outputs": [],
   "source": [
    "os('/Models').list"
   ]
  },
  {
   "cell_type": "code",
   "execution_count": 50,
   "metadata": {},
   "outputs": [],
   "source": [
    "# pd.to_pickle(tokenizer,'tok.pkl' )"
   ]
  },
  {
   "cell_type": "code",
   "execution_count": 53,
   "metadata": {},
   "outputs": [],
   "source": [
    "# model.save('LSTM.h5')"
   ]
  },
  {
   "cell_type": "code",
   "execution_count": 78,
   "metadata": {},
   "outputs": [
    {
     "data": {
      "text/html": [
       "<div>\n",
       "<style scoped>\n",
       "    .dataframe tbody tr th:only-of-type {\n",
       "        vertical-align: middle;\n",
       "    }\n",
       "\n",
       "    .dataframe tbody tr th {\n",
       "        vertical-align: top;\n",
       "    }\n",
       "\n",
       "    .dataframe thead th {\n",
       "        text-align: right;\n",
       "    }\n",
       "</style>\n",
       "<table border=\"1\" class=\"dataframe\">\n",
       "  <thead>\n",
       "    <tr style=\"text-align: right;\">\n",
       "      <th></th>\n",
       "      <th>id</th>\n",
       "      <th>keyword</th>\n",
       "      <th>location</th>\n",
       "      <th>text</th>\n",
       "      <th>clean_text</th>\n",
       "    </tr>\n",
       "  </thead>\n",
       "  <tbody>\n",
       "    <tr>\n",
       "      <th>0</th>\n",
       "      <td>0</td>\n",
       "      <td>NaN</td>\n",
       "      <td>NaN</td>\n",
       "      <td>Just happened a terrible car crash</td>\n",
       "      <td>just happen terrible car crash</td>\n",
       "    </tr>\n",
       "    <tr>\n",
       "      <th>1</th>\n",
       "      <td>2</td>\n",
       "      <td>NaN</td>\n",
       "      <td>NaN</td>\n",
       "      <td>Heard about #earthquake is different cities, s...</td>\n",
       "      <td>hear about earthquake different cities stay sa...</td>\n",
       "    </tr>\n",
       "    <tr>\n",
       "      <th>2</th>\n",
       "      <td>3</td>\n",
       "      <td>NaN</td>\n",
       "      <td>NaN</td>\n",
       "      <td>there is a forest fire at spot pond, geese are...</td>\n",
       "      <td>there forest fire at spot pond geese flee acro...</td>\n",
       "    </tr>\n",
       "    <tr>\n",
       "      <th>3</th>\n",
       "      <td>9</td>\n",
       "      <td>NaN</td>\n",
       "      <td>NaN</td>\n",
       "      <td>Apocalypse lighting. #Spokane #wildfires</td>\n",
       "      <td>apocalypse light spokane wildfires</td>\n",
       "    </tr>\n",
       "    <tr>\n",
       "      <th>4</th>\n",
       "      <td>11</td>\n",
       "      <td>NaN</td>\n",
       "      <td>NaN</td>\n",
       "      <td>Typhoon Soudelor kills 28 in China and Taiwan</td>\n",
       "      <td>typhoon soudelor kill china taiwan</td>\n",
       "    </tr>\n",
       "    <tr>\n",
       "      <th>...</th>\n",
       "      <td>...</td>\n",
       "      <td>...</td>\n",
       "      <td>...</td>\n",
       "      <td>...</td>\n",
       "      <td>...</td>\n",
       "    </tr>\n",
       "    <tr>\n",
       "      <th>3258</th>\n",
       "      <td>10861</td>\n",
       "      <td>NaN</td>\n",
       "      <td>NaN</td>\n",
       "      <td>EARTHQUAKE SAFETY LOS ANGELES ÛÒ SAFETY FASTE...</td>\n",
       "      <td>earthquake safety los angeles safety fasteners...</td>\n",
       "    </tr>\n",
       "    <tr>\n",
       "      <th>3259</th>\n",
       "      <td>10865</td>\n",
       "      <td>NaN</td>\n",
       "      <td>NaN</td>\n",
       "      <td>Storm in RI worse than last hurricane. My city...</td>\n",
       "      <td>storm ri worse than last hurricane city amp ot...</td>\n",
       "    </tr>\n",
       "    <tr>\n",
       "      <th>3260</th>\n",
       "      <td>10868</td>\n",
       "      <td>NaN</td>\n",
       "      <td>NaN</td>\n",
       "      <td>Green Line derailment in Chicago http://t.co/U...</td>\n",
       "      <td>green line derailment chicago</td>\n",
       "    </tr>\n",
       "    <tr>\n",
       "      <th>3261</th>\n",
       "      <td>10874</td>\n",
       "      <td>NaN</td>\n",
       "      <td>NaN</td>\n",
       "      <td>MEG issues Hazardous Weather Outlook (HWO) htt...</td>\n",
       "      <td>meg issue hazardous weather outlook hwo</td>\n",
       "    </tr>\n",
       "    <tr>\n",
       "      <th>3262</th>\n",
       "      <td>10875</td>\n",
       "      <td>NaN</td>\n",
       "      <td>NaN</td>\n",
       "      <td>#CityofCalgary has activated its Municipal Eme...</td>\n",
       "      <td>cityofcalgary activate its municipal emergency...</td>\n",
       "    </tr>\n",
       "  </tbody>\n",
       "</table>\n",
       "<p>3263 rows × 5 columns</p>\n",
       "</div>"
      ],
      "text/plain": [
       "         id keyword location  \\\n",
       "0         0     NaN      NaN   \n",
       "1         2     NaN      NaN   \n",
       "2         3     NaN      NaN   \n",
       "3         9     NaN      NaN   \n",
       "4        11     NaN      NaN   \n",
       "...     ...     ...      ...   \n",
       "3258  10861     NaN      NaN   \n",
       "3259  10865     NaN      NaN   \n",
       "3260  10868     NaN      NaN   \n",
       "3261  10874     NaN      NaN   \n",
       "3262  10875     NaN      NaN   \n",
       "\n",
       "                                                   text  \\\n",
       "0                    Just happened a terrible car crash   \n",
       "1     Heard about #earthquake is different cities, s...   \n",
       "2     there is a forest fire at spot pond, geese are...   \n",
       "3              Apocalypse lighting. #Spokane #wildfires   \n",
       "4         Typhoon Soudelor kills 28 in China and Taiwan   \n",
       "...                                                 ...   \n",
       "3258  EARTHQUAKE SAFETY LOS ANGELES ÛÒ SAFETY FASTE...   \n",
       "3259  Storm in RI worse than last hurricane. My city...   \n",
       "3260  Green Line derailment in Chicago http://t.co/U...   \n",
       "3261  MEG issues Hazardous Weather Outlook (HWO) htt...   \n",
       "3262  #CityofCalgary has activated its Municipal Eme...   \n",
       "\n",
       "                                             clean_text  \n",
       "0                        just happen terrible car crash  \n",
       "1     hear about earthquake different cities stay sa...  \n",
       "2     there forest fire at spot pond geese flee acro...  \n",
       "3                    apocalypse light spokane wildfires  \n",
       "4                    typhoon soudelor kill china taiwan  \n",
       "...                                                 ...  \n",
       "3258  earthquake safety los angeles safety fasteners...  \n",
       "3259  storm ri worse than last hurricane city amp ot...  \n",
       "3260                      green line derailment chicago  \n",
       "3261            meg issue hazardous weather outlook hwo  \n",
       "3262  cityofcalgary activate its municipal emergency...  \n",
       "\n",
       "[3263 rows x 5 columns]"
      ]
     },
     "execution_count": 78,
     "metadata": {},
     "output_type": "execute_result"
    }
   ],
   "source": [
    "preprocess(test_df)"
   ]
  },
  {
   "cell_type": "code",
   "execution_count": null,
   "metadata": {},
   "outputs": [],
   "source": [
    "tok = open(\"tok.pkl\", \"rb\")\n",
    "tokenizer = pkl.load(tok\n",
    "data = preprocess(data)"
   ]
  },
  {
   "cell_type": "code",
   "execution_count": 47,
   "metadata": {},
   "outputs": [
    {
     "data": {
      "text/plain": [
       "['model.pkl', 'test.csv', 'tok.pkl']"
      ]
     },
     "execution_count": 47,
     "metadata": {},
     "output_type": "execute_result"
    }
   ],
   "source": [
    "os.listdir('Models/LSTM')"
   ]
  },
  {
   "cell_type": "code",
   "execution_count": 50,
   "metadata": {},
   "outputs": [
    {
     "data": {
      "text/plain": [
       "'Models/LSTM/tok.pkl'"
      ]
     },
     "execution_count": 50,
     "metadata": {},
     "output_type": "execute_result"
    }
   ],
   "source": [
    "'Models'+'/' + 'LSTM'+ '/' + 'tok.pkl'"
   ]
  },
  {
   "cell_type": "code",
   "execution_count": null,
   "metadata": {},
   "outputs": [],
   "source": []
  },
  {
   "cell_type": "code",
   "execution_count": 63,
   "metadata": {},
   "outputs": [
    {
     "data": {
      "text/plain": [
       "'Models/LSTM/LSTM.h5'"
      ]
     },
     "execution_count": 63,
     "metadata": {},
     "output_type": "execute_result"
    }
   ],
   "source": [
    "dire = 'LSTM'\n",
    "path = 'Models'+'/' + dire\n",
    "tok_path = path+ '/'+'LSTM.h5'\n",
    "# tok = open(path+'tok.pkl', \"rb\")\n",
    "tok_path"
   ]
  },
  {
   "cell_type": "code",
   "execution_count": 71,
   "metadata": {},
   "outputs": [],
   "source": [
    "def predict(data, dire):\n",
    "    import pickle as pkl\n",
    "    path = 'Models'+'/' + dire\n",
    "    tok = open(path+ '/'+'tok.pkl', \"rb\")\n",
    "    tokenizer = pkl.load(tok)\n",
    "    data = preprocess(data)\n",
    "\n",
    "    train_tweets1 = tokenizer.texts_to_sequences(data['clean_text'].astype(str).values)\n",
    "\n",
    "    # max_len = max([len(i) for i in train_tweets1])\n",
    "    max_len = 25\n",
    "\n",
    "    train_tweets = pad_sequences(train_tweets1, maxlen = 25, padding= 'pre')\n",
    "    \n",
    "    #     Model\n",
    "    \n",
    "    new_model = tf.keras.models.load_model('LSTM.h5')\n",
    "    \n",
    "    val_y = new_model.predict(train_tweets)\n",
    "\n",
    "    pred_y = np.where(val_y>0.5, 1, 0)\n",
    "    \n",
    "    data['target'] = pred_y\n",
    "    \n",
    "    \n",
    "    return data[['id', 'target']]\n",
    "    \n",
    "    \n",
    "    "
   ]
  },
  {
   "cell_type": "code",
   "execution_count": 70,
   "metadata": {},
   "outputs": [
    {
     "data": {
      "text/plain": [
       "['LSTM.pkl', 'test.csv', 'tok.pkl']"
      ]
     },
     "execution_count": 70,
     "metadata": {},
     "output_type": "execute_result"
    }
   ],
   "source": [
    "os.listdir('Models\\LSTM')"
   ]
  },
  {
   "cell_type": "code",
   "execution_count": 72,
   "metadata": {},
   "outputs": [
    {
     "name": "stdout",
     "output_type": "stream",
     "text": [
      "WARNING:tensorflow:Layer lstm_12 will not use cuDNN kernels since it doesn't meet the criteria. It will use a generic GPU kernel as fallback when running on GPU.\n",
      "WARNING:tensorflow:Layer lstm_13 will not use cuDNN kernels since it doesn't meet the criteria. It will use a generic GPU kernel as fallback when running on GPU.\n"
     ]
    }
   ],
   "source": [
    "test = predict(test_df, 'LSTM')\n",
    "# test.to_csv('test.csv', index = False)"
   ]
  },
  {
   "cell_type": "markdown",
   "metadata": {},
   "source": [
    "### BI-Directional LSTM"
   ]
  },
  {
   "cell_type": "code",
   "execution_count": 32,
   "metadata": {},
   "outputs": [
    {
     "data": {
      "text/plain": [
       "316536"
      ]
     },
     "execution_count": 32,
     "metadata": {},
     "output_type": "execute_result"
    }
   ],
   "source": [
    "import gc\n",
    "del model\n",
    "# , train_loss, val_loss, train_accuracy, val_accuracy\n",
    "gc.collect()"
   ]
  },
  {
   "cell_type": "code",
   "execution_count": 33,
   "metadata": {},
   "outputs": [
    {
     "name": "stdout",
     "output_type": "stream",
     "text": [
      "Epoch 1/3\n",
      "36/36 [==============================] - 7s 55ms/step - loss: 0.6844 - accuracy: 0.5769 - val_loss: 0.6748 - val_accuracy: 0.5810\n",
      "Epoch 2/3\n",
      "36/36 [==============================] - 1s 19ms/step - loss: 0.5468 - accuracy: 0.7246 - val_loss: 0.6051 - val_accuracy: 0.7169\n",
      "Epoch 3/3\n",
      "36/36 [==============================] - 1s 19ms/step - loss: 0.2924 - accuracy: 0.8923 - val_loss: 0.6129 - val_accuracy: 0.6928\n",
      "Epoch 1/3\n",
      "36/36 [==============================] - 8s 54ms/step - loss: 0.6851 - accuracy: 0.5747 - val_loss: 0.6783 - val_accuracy: 0.5851\n",
      "Epoch 2/3\n",
      "36/36 [==============================] - 1s 19ms/step - loss: 0.5489 - accuracy: 0.7336 - val_loss: 0.5707 - val_accuracy: 0.7082\n",
      "Epoch 3/3\n",
      "36/36 [==============================] - 1s 19ms/step - loss: 0.3066 - accuracy: 0.8916 - val_loss: 0.5903 - val_accuracy: 0.7205\n",
      "Epoch 1/3\n",
      "36/36 [==============================] - 8s 57ms/step - loss: 0.6848 - accuracy: 0.5719 - val_loss: 0.6763 - val_accuracy: 0.5810\n",
      "Epoch 2/3\n",
      "36/36 [==============================] - 1s 20ms/step - loss: 0.5469 - accuracy: 0.7316 - val_loss: 0.6127 - val_accuracy: 0.7021\n",
      "Epoch 3/3\n",
      "36/36 [==============================] - 1s 19ms/step - loss: 0.2997 - accuracy: 0.8934 - val_loss: 0.6196 - val_accuracy: 0.7108\n",
      "Epoch 1/3\n",
      "36/36 [==============================] - 8s 56ms/step - loss: 0.6852 - accuracy: 0.5743 - val_loss: 0.6764 - val_accuracy: 0.5810\n",
      "Epoch 2/3\n",
      "36/36 [==============================] - 1s 19ms/step - loss: 0.5818 - accuracy: 0.6989 - val_loss: 0.5778 - val_accuracy: 0.7113\n",
      "Epoch 3/3\n",
      "36/36 [==============================] - 1s 19ms/step - loss: 0.3296 - accuracy: 0.8745 - val_loss: 0.5988 - val_accuracy: 0.7292\n"
     ]
    }
   ],
   "source": [
    "# collect data across multiple repeats\n",
    "iterations = 4\n",
    "epo = 3\n",
    "\n",
    "vocab_size = 15000\n",
    "dim_size = 20\n",
    "max_length = 25\n",
    "\n",
    "train_loss = pd.DataFrame()\n",
    "val_loss = pd.DataFrame()\n",
    "\n",
    "train_accuracy = pd.DataFrame()\n",
    "val_accuracy = pd.DataFrame()\n",
    "\n",
    "for i in range(iterations):\n",
    "    model = Sequential()\n",
    "    model.add(Embedding(input_dim = vocab_size, output_dim= dim_size, input_length = max_length))\n",
    "#     model.add(Dropout(0.2))\n",
    "#     model.add(LSTM(units =264, activation = 'tanh', recurrent_dropout = 0.2, return_sequences = True))\n",
    "#     model.add(Dropout(0.5))\n",
    "    model.add(Bidirectional(LSTM(units = 128, activation='tanh', return_sequences=True)))\n",
    "    model.add(Dropout(0.2))\n",
    "    model.add(LSTM(units = 64, activation = 'tanh'\n",
    "#                    , return_sequences= True\n",
    "                  ))\n",
    "\n",
    "#     model.add(LSTM(units =16, activation = LeakyReLU(alpha=0.1)))\n",
    "    model.add(Dropout(0.2))\n",
    "    model.add(Dense(units = 16, activation= LeakyReLU(alpha=0.3)))\n",
    "#     model.add(Dropout(0.2))\n",
    "    model.add(Dense(units = 1, activation = 'sigmoid'))\n",
    "    model.compile(optimizer='adam', loss = 'binary_crossentropy', metrics= ['accuracy'])\n",
    "\n",
    "    # fit model\n",
    "    history = model.fit(train_X, train_y, epochs = epo, batch_size = 128,\n",
    "#                     validation_data= (validation_X, validation_y),\n",
    "                        shuffle=False,\n",
    "                   validation_split = 0.3\n",
    "                       )\n",
    "    \n",
    "    # story history\n",
    "    train_loss[str(i)] = history.history['loss']\n",
    "    val_loss[str(i)] = history.history['val_loss']\n",
    "    \n",
    "    train_accuracy[str(i)] = history.history['accuracy']\n",
    "    val_accuracy[str(i)] = history.history['val_accuracy']\n"
   ]
  },
  {
   "cell_type": "code",
   "execution_count": 34,
   "metadata": {
    "scrolled": true
   },
   "outputs": [
    {
     "data": {
      "image/png": "[encoded data removed]",
      "text/plain": [
       "<Figure size 432x288 with 1 Axes>"
      ]
     },
     "metadata": {
      "needs_background": "light"
     },
     "output_type": "display_data"
    }
   ],
   "source": [
    "# plot train and validation loss across multiple runs\n",
    "plt.plot(train_loss, color='blue', label='train')\n",
    "plt.plot(val_loss, color='orange', label='validation')\n",
    "plt.title('model train vs validation loss')\n",
    "plt.ylabel('loss')\n",
    "plt.xlabel('epoch')\n",
    "plt.show()"
   ]
  },
  {
   "cell_type": "code",
   "execution_count": 35,
   "metadata": {},
   "outputs": [
    {
     "data": {
      "image/png": "[encoded data removed]",
      "text/plain": [
       "<Figure size 432x288 with 1 Axes>"
      ]
     },
     "metadata": {
      "needs_background": "light"
     },
     "output_type": "display_data"
    }
   ],
   "source": [
    "# plot train and validation loss across multiple runs\n",
    "plt.plot(train_accuracy, color='blue', label='train')\n",
    "plt.plot(val_accuracy, color='orange', label='validation')\n",
    "plt.title('model train vs validation loss')\n",
    "plt.ylabel('Accuracy')\n",
    "plt.xlabel('epoch')\n",
    "plt.show()"
   ]
  },
  {
   "cell_type": "code",
   "execution_count": 36,
   "metadata": {},
   "outputs": [],
   "source": [
    "model.save('BI-LSTM.h5')"
   ]
  },
  {
   "cell_type": "markdown",
   "metadata": {},
   "source": [
    "### Testing"
   ]
  },
  {
   "cell_type": "code",
   "execution_count": 40,
   "metadata": {},
   "outputs": [],
   "source": [
    "# test_df = pd.read_csv('Data/test.csv')"
   ]
  },
  {
   "cell_type": "code",
   "execution_count": null,
   "metadata": {},
   "outputs": [],
   "source": [
    "tok = open(\"tok.pkl\", \"rb\")\n",
    "tokenizer = pkl.load(tok)\n",
    "data = preprocess(data)"
   ]
  },
  {
   "cell_type": "code",
   "execution_count": 44,
   "metadata": {},
   "outputs": [
    {
     "data": {
      "text/plain": [
       "['model.h5', 'test.csv', 'tok.pkl']"
      ]
     },
     "execution_count": 44,
     "metadata": {},
     "output_type": "execute_result"
    }
   ],
   "source": [
    "import os\n",
    "os.listdir('Models/BI-LSTM')"
   ]
  },
  {
   "cell_type": "code",
   "execution_count": 73,
   "metadata": {},
   "outputs": [
    {
     "data": {
      "text/html": [
       "<div>\n",
       "<style scoped>\n",
       "    .dataframe tbody tr th:only-of-type {\n",
       "        vertical-align: middle;\n",
       "    }\n",
       "\n",
       "    .dataframe tbody tr th {\n",
       "        vertical-align: top;\n",
       "    }\n",
       "\n",
       "    .dataframe thead th {\n",
       "        text-align: right;\n",
       "    }\n",
       "</style>\n",
       "<table border=\"1\" class=\"dataframe\">\n",
       "  <thead>\n",
       "    <tr style=\"text-align: right;\">\n",
       "      <th></th>\n",
       "      <th>id</th>\n",
       "      <th>keyword</th>\n",
       "      <th>location</th>\n",
       "      <th>text</th>\n",
       "      <th>clean_text</th>\n",
       "      <th>target</th>\n",
       "    </tr>\n",
       "  </thead>\n",
       "  <tbody>\n",
       "    <tr>\n",
       "      <th>0</th>\n",
       "      <td>0</td>\n",
       "      <td>NaN</td>\n",
       "      <td>NaN</td>\n",
       "      <td>Just happened a terrible car crash</td>\n",
       "      <td>just happen terrible car crash</td>\n",
       "      <td>0</td>\n",
       "    </tr>\n",
       "    <tr>\n",
       "      <th>1</th>\n",
       "      <td>2</td>\n",
       "      <td>NaN</td>\n",
       "      <td>NaN</td>\n",
       "      <td>Heard about #earthquake is different cities, s...</td>\n",
       "      <td>hear about earthquake different cities stay sa...</td>\n",
       "      <td>1</td>\n",
       "    </tr>\n",
       "    <tr>\n",
       "      <th>2</th>\n",
       "      <td>3</td>\n",
       "      <td>NaN</td>\n",
       "      <td>NaN</td>\n",
       "      <td>there is a forest fire at spot pond, geese are...</td>\n",
       "      <td>there forest fire at spot pond geese flee acro...</td>\n",
       "      <td>1</td>\n",
       "    </tr>\n",
       "    <tr>\n",
       "      <th>3</th>\n",
       "      <td>9</td>\n",
       "      <td>NaN</td>\n",
       "      <td>NaN</td>\n",
       "      <td>Apocalypse lighting. #Spokane #wildfires</td>\n",
       "      <td>apocalypse light spokane wildfires</td>\n",
       "      <td>0</td>\n",
       "    </tr>\n",
       "    <tr>\n",
       "      <th>4</th>\n",
       "      <td>11</td>\n",
       "      <td>NaN</td>\n",
       "      <td>NaN</td>\n",
       "      <td>Typhoon Soudelor kills 28 in China and Taiwan</td>\n",
       "      <td>typhoon soudelor kill china taiwan</td>\n",
       "      <td>1</td>\n",
       "    </tr>\n",
       "    <tr>\n",
       "      <th>...</th>\n",
       "      <td>...</td>\n",
       "      <td>...</td>\n",
       "      <td>...</td>\n",
       "      <td>...</td>\n",
       "      <td>...</td>\n",
       "      <td>...</td>\n",
       "    </tr>\n",
       "    <tr>\n",
       "      <th>3258</th>\n",
       "      <td>10861</td>\n",
       "      <td>NaN</td>\n",
       "      <td>NaN</td>\n",
       "      <td>EARTHQUAKE SAFETY LOS ANGELES ÛÒ SAFETY FASTE...</td>\n",
       "      <td>earthquake safety los angeles safety fasteners...</td>\n",
       "      <td>1</td>\n",
       "    </tr>\n",
       "    <tr>\n",
       "      <th>3259</th>\n",
       "      <td>10865</td>\n",
       "      <td>NaN</td>\n",
       "      <td>NaN</td>\n",
       "      <td>Storm in RI worse than last hurricane. My city...</td>\n",
       "      <td>storm ri worse than last hurricane city amp ot...</td>\n",
       "      <td>1</td>\n",
       "    </tr>\n",
       "    <tr>\n",
       "      <th>3260</th>\n",
       "      <td>10868</td>\n",
       "      <td>NaN</td>\n",
       "      <td>NaN</td>\n",
       "      <td>Green Line derailment in Chicago http://t.co/U...</td>\n",
       "      <td>green line derailment chicago</td>\n",
       "      <td>0</td>\n",
       "    </tr>\n",
       "    <tr>\n",
       "      <th>3261</th>\n",
       "      <td>10874</td>\n",
       "      <td>NaN</td>\n",
       "      <td>NaN</td>\n",
       "      <td>MEG issues Hazardous Weather Outlook (HWO) htt...</td>\n",
       "      <td>meg issue hazardous weather outlook hwo</td>\n",
       "      <td>1</td>\n",
       "    </tr>\n",
       "    <tr>\n",
       "      <th>3262</th>\n",
       "      <td>10875</td>\n",
       "      <td>NaN</td>\n",
       "      <td>NaN</td>\n",
       "      <td>#CityofCalgary has activated its Municipal Eme...</td>\n",
       "      <td>cityofcalgary activate its municipal emergency...</td>\n",
       "      <td>1</td>\n",
       "    </tr>\n",
       "  </tbody>\n",
       "</table>\n",
       "<p>3263 rows × 6 columns</p>\n",
       "</div>"
      ],
      "text/plain": [
       "         id keyword location  \\\n",
       "0         0     NaN      NaN   \n",
       "1         2     NaN      NaN   \n",
       "2         3     NaN      NaN   \n",
       "3         9     NaN      NaN   \n",
       "4        11     NaN      NaN   \n",
       "...     ...     ...      ...   \n",
       "3258  10861     NaN      NaN   \n",
       "3259  10865     NaN      NaN   \n",
       "3260  10868     NaN      NaN   \n",
       "3261  10874     NaN      NaN   \n",
       "3262  10875     NaN      NaN   \n",
       "\n",
       "                                                   text  \\\n",
       "0                    Just happened a terrible car crash   \n",
       "1     Heard about #earthquake is different cities, s...   \n",
       "2     there is a forest fire at spot pond, geese are...   \n",
       "3              Apocalypse lighting. #Spokane #wildfires   \n",
       "4         Typhoon Soudelor kills 28 in China and Taiwan   \n",
       "...                                                 ...   \n",
       "3258  EARTHQUAKE SAFETY LOS ANGELES ÛÒ SAFETY FASTE...   \n",
       "3259  Storm in RI worse than last hurricane. My city...   \n",
       "3260  Green Line derailment in Chicago http://t.co/U...   \n",
       "3261  MEG issues Hazardous Weather Outlook (HWO) htt...   \n",
       "3262  #CityofCalgary has activated its Municipal Eme...   \n",
       "\n",
       "                                             clean_text  target  \n",
       "0                        just happen terrible car crash       0  \n",
       "1     hear about earthquake different cities stay sa...       1  \n",
       "2     there forest fire at spot pond geese flee acro...       1  \n",
       "3                    apocalypse light spokane wildfires       0  \n",
       "4                    typhoon soudelor kill china taiwan       1  \n",
       "...                                                 ...     ...  \n",
       "3258  earthquake safety los angeles safety fasteners...       1  \n",
       "3259  storm ri worse than last hurricane city amp ot...       1  \n",
       "3260                      green line derailment chicago       0  \n",
       "3261            meg issue hazardous weather outlook hwo       1  \n",
       "3262  cityofcalgary activate its municipal emergency...       1  \n",
       "\n",
       "[3263 rows x 6 columns]"
      ]
     },
     "execution_count": 73,
     "metadata": {},
     "output_type": "execute_result"
    }
   ],
   "source": [
    "test_df"
   ]
  },
  {
   "cell_type": "code",
   "execution_count": 76,
   "metadata": {},
   "outputs": [
    {
     "data": {
      "text/plain": [
       "['model.h5', 'test.csv', 'tok.pkl']"
      ]
     },
     "execution_count": 76,
     "metadata": {},
     "output_type": "execute_result"
    }
   ],
   "source": [
    "os.listdir('Models/BI-LSTM')"
   ]
  },
  {
   "cell_type": "code",
   "execution_count": 78,
   "metadata": {},
   "outputs": [
    {
     "name": "stdout",
     "output_type": "stream",
     "text": [
      "WARNING:tensorflow:Layer lstm_12 will not use cuDNN kernels since it doesn't meet the criteria. It will use a generic GPU kernel as fallback when running on GPU.\n",
      "WARNING:tensorflow:Layer lstm_13 will not use cuDNN kernels since it doesn't meet the criteria. It will use a generic GPU kernel as fallback when running on GPU.\n"
     ]
    }
   ],
   "source": [
    "test = predict(test_df, 'BI-LSTM')\n",
    "test.to_csv('Models/BI-LSTM/test.csv', index = False)"
   ]
  },
  {
   "cell_type": "code",
   "execution_count": 532,
   "metadata": {
    "scrolled": true
   },
   "outputs": [
    {
     "data": {
      "text/plain": [
       "14165"
      ]
     },
     "execution_count": 532,
     "metadata": {},
     "output_type": "execute_result"
    }
   ],
   "source": [
    "len(np.unique(join_t.split(\" \")))"
   ]
  },
  {
   "cell_type": "code",
   "execution_count": 36,
   "metadata": {
    "scrolled": true
   },
   "outputs": [
    {
     "data": {
      "text/html": [
       "<div>\n",
       "<style scoped>\n",
       "    .dataframe tbody tr th:only-of-type {\n",
       "        vertical-align: middle;\n",
       "    }\n",
       "\n",
       "    .dataframe tbody tr th {\n",
       "        vertical-align: top;\n",
       "    }\n",
       "\n",
       "    .dataframe thead th {\n",
       "        text-align: right;\n",
       "    }\n",
       "</style>\n",
       "<table border=\"1\" class=\"dataframe\">\n",
       "  <thead>\n",
       "    <tr style=\"text-align: right;\">\n",
       "      <th></th>\n",
       "      <th>id</th>\n",
       "      <th>keyword</th>\n",
       "      <th>location</th>\n",
       "      <th>text</th>\n",
       "      <th>target</th>\n",
       "      <th>clean_text</th>\n",
       "    </tr>\n",
       "  </thead>\n",
       "  <tbody>\n",
       "    <tr>\n",
       "      <th>5000</th>\n",
       "      <td>7132</td>\n",
       "      <td>military</td>\n",
       "      <td>NY</td>\n",
       "      <td>13 reasons why we love women in the military  ...</td>\n",
       "      <td>0</td>\n",
       "      <td>reason love women the military lulgzimbestpicts</td>\n",
       "    </tr>\n",
       "  </tbody>\n",
       "</table>\n",
       "</div>"
      ],
      "text/plain": [
       "        id   keyword location  \\\n",
       "5000  7132  military       NY   \n",
       "\n",
       "                                                   text  target  \\\n",
       "5000  13 reasons why we love women in the military  ...       0   \n",
       "\n",
       "                                           clean_text  \n",
       "5000  reason love women the military lulgzimbestpicts  "
      ]
     },
     "execution_count": 36,
     "metadata": {},
     "output_type": "execute_result"
    }
   ],
   "source": [
    "train_df[5000:5001]"
   ]
  },
  {
   "cell_type": "code",
   "execution_count": 37,
   "metadata": {},
   "outputs": [],
   "source": [
    "from sklearn.metrics import accuracy_score\n",
    "from sklearn.metrics import confusion_matrix\n",
    "from sklearn.metrics import classification_report"
   ]
  },
  {
   "cell_type": "code",
   "execution_count": 38,
   "metadata": {},
   "outputs": [],
   "source": [
    "val_y = model.predict(validation_X)\n",
    "\n",
    "pred_y = np.where(model.predict(validation_X)>0.5, 1, 0)"
   ]
  },
  {
   "cell_type": "code",
   "execution_count": 39,
   "metadata": {},
   "outputs": [],
   "source": [
    "validation_y = np.array(validation_y).reshape(-1,1)"
   ]
  },
  {
   "cell_type": "code",
   "execution_count": 40,
   "metadata": {},
   "outputs": [
    {
     "data": {
      "text/plain": [
       "array([[346, 240],\n",
       "       [120, 407]], dtype=int64)"
      ]
     },
     "execution_count": 40,
     "metadata": {},
     "output_type": "execute_result"
    }
   ],
   "source": [
    "confusion_matrix(validation_y,pred_y)"
   ]
  },
  {
   "cell_type": "code",
   "execution_count": 41,
   "metadata": {},
   "outputs": [
    {
     "data": {
      "text/plain": [
       "0.6765498652291105"
      ]
     },
     "execution_count": 41,
     "metadata": {},
     "output_type": "execute_result"
    }
   ],
   "source": [
    "accuracy_score(validation_y,pred_y)"
   ]
  },
  {
   "cell_type": "code",
   "execution_count": 42,
   "metadata": {},
   "outputs": [
    {
     "name": "stdout",
     "output_type": "stream",
     "text": [
      "              precision    recall  f1-score   support\n",
      "\n",
      "           0       0.74      0.59      0.66       586\n",
      "           1       0.63      0.77      0.69       527\n",
      "\n",
      "    accuracy                           0.68      1113\n",
      "   macro avg       0.69      0.68      0.68      1113\n",
      "weighted avg       0.69      0.68      0.67      1113\n",
      "\n"
     ]
    }
   ],
   "source": [
    "print(classification_report(validation_y, pred_y))"
   ]
  }
 ],
 "metadata": {
  "kernelspec": {
   "display_name": "Python 3 (ipykernel)",
   "language": "python",
   "name": "python3"
  },
  "language_info": {
   "codemirror_mode": {
    "name": "ipython",
    "version": 3
   },
   "file_extension": ".py",
   "mimetype": "text/x-python",
   "name": "python",
   "nbconvert_exporter": "python",
   "pygments_lexer": "ipython3",
   "version": "3.9.12"
  }
 },
 "nbformat": 4,
 "nbformat_minor": 4
}
